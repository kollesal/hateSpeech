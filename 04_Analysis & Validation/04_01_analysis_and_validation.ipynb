{
 "cells": [
  {
   "cell_type": "code",
   "execution_count": 0,
   "metadata": {},
   "outputs": [],
   "source": [
    "# Load the libraries\n",
    "import pandas as pd\n",
    "import numpy as np\n",
    "import matplotlib.pyplot as plt\n",
    "import seaborn as sns\n",
    "import statsmodels.api as sm\n",
    "import pylab as py\n",
    "from scipy import stats\n",
    "%matplotlib inline\n",
    "\n",
    "# Settings for seaborn\n",
    "sns.set_theme(style=\"ticks\", palette=\"pastel\")"
   ]
  },
  {
   "cell_type": "markdown",
   "metadata": {},
   "source": [
    "## Preliminary Work\n",
    "The most part of outlier detection, descriptive statistics and Verteilungen & Standardisierung has already been made in the Step EDA.\n",
    "\n",
    "## Hypothesis Validation\n",
    "The main part of this Notebook is, to validate the H0 and H1 and the additional Question. <br /><br />"
   ]
  },
  {
   "cell_type": "code",
   "execution_count": 1,
   "metadata": {},
   "outputs": [
    {
     "name": "stdout",
     "output_type": "stream",
     "text": [
      "(64344, 22)\n"
     ]
    },
    {
     "data": {
      "text/html": [
       "<div>\n",
       "<style scoped>\n",
       "    .dataframe tbody tr th:only-of-type {\n",
       "        vertical-align: middle;\n",
       "    }\n",
       "\n",
       "    .dataframe tbody tr th {\n",
       "        vertical-align: top;\n",
       "    }\n",
       "\n",
       "    .dataframe thead th {\n",
       "        text-align: right;\n",
       "    }\n",
       "</style>\n",
       "<table border=\"1\" class=\"dataframe\">\n",
       "  <thead>\n",
       "    <tr style=\"text-align: right;\">\n",
       "      <th></th>\n",
       "      <th>interaction_id</th>\n",
       "      <th>tweet_id</th>\n",
       "      <th>senderuser_id</th>\n",
       "      <th>receiveruser_id</th>\n",
       "      <th>cyberbullying_type</th>\n",
       "      <th>interaction_timestamp</th>\n",
       "      <th>char_count</th>\n",
       "      <th>tweet_text</th>\n",
       "      <th>harass</th>\n",
       "      <th>cyberstalk</th>\n",
       "      <th>...</th>\n",
       "      <th>doxing</th>\n",
       "      <th>exclusion</th>\n",
       "      <th>impersonation</th>\n",
       "      <th>trolling</th>\n",
       "      <th>hateSpeech</th>\n",
       "      <th>threats</th>\n",
       "      <th>word_count</th>\n",
       "      <th>avg_word_length</th>\n",
       "      <th>avg_sentence_length</th>\n",
       "      <th>punctuation_count</th>\n",
       "    </tr>\n",
       "  </thead>\n",
       "  <tbody>\n",
       "    <tr>\n",
       "      <th>0</th>\n",
       "      <td>1304</td>\n",
       "      <td>1510</td>\n",
       "      <td>876</td>\n",
       "      <td>2009</td>\n",
       "      <td>not_cyberbullying</td>\n",
       "      <td>41:34.9</td>\n",
       "      <td>20</td>\n",
       "      <td>@GYU WHAT IS THAT</td>\n",
       "      <td>0.0</td>\n",
       "      <td>0.0</td>\n",
       "      <td>...</td>\n",
       "      <td>0.0</td>\n",
       "      <td>0.0</td>\n",
       "      <td>0.0</td>\n",
       "      <td>0.0</td>\n",
       "      <td>0.0</td>\n",
       "      <td>0.0</td>\n",
       "      <td>4</td>\n",
       "      <td>2.800000</td>\n",
       "      <td>5.0</td>\n",
       "      <td>1</td>\n",
       "    </tr>\n",
       "    <tr>\n",
       "      <th>1</th>\n",
       "      <td>1998</td>\n",
       "      <td>31503</td>\n",
       "      <td>918</td>\n",
       "      <td>2436</td>\n",
       "      <td>other_cyberbullying</td>\n",
       "      <td>37:48.7</td>\n",
       "      <td>16</td>\n",
       "      <td>@STOCKPUTOUT YES</td>\n",
       "      <td>0.0</td>\n",
       "      <td>0.0</td>\n",
       "      <td>...</td>\n",
       "      <td>0.0</td>\n",
       "      <td>0.0</td>\n",
       "      <td>0.0</td>\n",
       "      <td>0.0</td>\n",
       "      <td>0.0</td>\n",
       "      <td>0.0</td>\n",
       "      <td>2</td>\n",
       "      <td>5.000000</td>\n",
       "      <td>3.0</td>\n",
       "      <td>1</td>\n",
       "    </tr>\n",
       "    <tr>\n",
       "      <th>2</th>\n",
       "      <td>2533</td>\n",
       "      <td>27942</td>\n",
       "      <td>1409</td>\n",
       "      <td>3624</td>\n",
       "      <td>other_cyberbullying</td>\n",
       "      <td>50:46.1</td>\n",
       "      <td>7</td>\n",
       "      <td></td>\n",
       "      <td>0.0</td>\n",
       "      <td>0.0</td>\n",
       "      <td>...</td>\n",
       "      <td>0.0</td>\n",
       "      <td>0.0</td>\n",
       "      <td>0.0</td>\n",
       "      <td>0.0</td>\n",
       "      <td>0.0</td>\n",
       "      <td>0.0</td>\n",
       "      <td>0</td>\n",
       "      <td>0.000000</td>\n",
       "      <td>0.0</td>\n",
       "      <td>0</td>\n",
       "    </tr>\n",
       "    <tr>\n",
       "      <th>3</th>\n",
       "      <td>2598</td>\n",
       "      <td>52129</td>\n",
       "      <td>1341</td>\n",
       "      <td>3290</td>\n",
       "      <td>none</td>\n",
       "      <td>04:51.4</td>\n",
       "      <td>26</td>\n",
       "      <td>@BLACKAMAZON EXACTLY THIS</td>\n",
       "      <td>0.0</td>\n",
       "      <td>0.0</td>\n",
       "      <td>...</td>\n",
       "      <td>0.0</td>\n",
       "      <td>0.0</td>\n",
       "      <td>0.0</td>\n",
       "      <td>0.0</td>\n",
       "      <td>0.0</td>\n",
       "      <td>0.0</td>\n",
       "      <td>3</td>\n",
       "      <td>5.750000</td>\n",
       "      <td>4.0</td>\n",
       "      <td>1</td>\n",
       "    </tr>\n",
       "    <tr>\n",
       "      <th>4</th>\n",
       "      <td>3511</td>\n",
       "      <td>54626</td>\n",
       "      <td>831</td>\n",
       "      <td>2812</td>\n",
       "      <td>none</td>\n",
       "      <td>11:11.2</td>\n",
       "      <td>34</td>\n",
       "      <td>@ODDTANKOUT HTTP   T CO KMMJEUME</td>\n",
       "      <td>0.0</td>\n",
       "      <td>0.0</td>\n",
       "      <td>...</td>\n",
       "      <td>0.0</td>\n",
       "      <td>0.0</td>\n",
       "      <td>0.0</td>\n",
       "      <td>0.0</td>\n",
       "      <td>0.0</td>\n",
       "      <td>0.0</td>\n",
       "      <td>5</td>\n",
       "      <td>4.333333</td>\n",
       "      <td>6.0</td>\n",
       "      <td>1</td>\n",
       "    </tr>\n",
       "  </tbody>\n",
       "</table>\n",
       "<p>5 rows × 22 columns</p>\n",
       "</div>"
      ],
      "text/plain": [
       "   interaction_id  tweet_id  senderuser_id  receiveruser_id  \\\n",
       "0            1304      1510            876             2009   \n",
       "1            1998     31503            918             2436   \n",
       "2            2533     27942           1409             3624   \n",
       "3            2598     52129           1341             3290   \n",
       "4            3511     54626            831             2812   \n",
       "\n",
       "    cyberbullying_type interaction_timestamp  char_count  \\\n",
       "0    not_cyberbullying               41:34.9          20   \n",
       "1  other_cyberbullying               37:48.7          16   \n",
       "2  other_cyberbullying               50:46.1           7   \n",
       "3                 none               04:51.4          26   \n",
       "4                 none               11:11.2          34   \n",
       "\n",
       "                         tweet_text  harass  cyberstalk  ...  doxing  \\\n",
       "0                @GYU WHAT IS THAT      0.0         0.0  ...     0.0   \n",
       "1                  @STOCKPUTOUT YES     0.0         0.0  ...     0.0   \n",
       "2                                       0.0         0.0  ...     0.0   \n",
       "3        @BLACKAMAZON EXACTLY THIS      0.0         0.0  ...     0.0   \n",
       "4  @ODDTANKOUT HTTP   T CO KMMJEUME     0.0         0.0  ...     0.0   \n",
       "\n",
       "   exclusion  impersonation  trolling  hateSpeech  threats  word_count  \\\n",
       "0        0.0            0.0       0.0         0.0      0.0           4   \n",
       "1        0.0            0.0       0.0         0.0      0.0           2   \n",
       "2        0.0            0.0       0.0         0.0      0.0           0   \n",
       "3        0.0            0.0       0.0         0.0      0.0           3   \n",
       "4        0.0            0.0       0.0         0.0      0.0           5   \n",
       "\n",
       "   avg_word_length  avg_sentence_length  punctuation_count  \n",
       "0         2.800000                  5.0                  1  \n",
       "1         5.000000                  3.0                  1  \n",
       "2         0.000000                  0.0                  0  \n",
       "3         5.750000                  4.0                  1  \n",
       "4         4.333333                  6.0                  1  \n",
       "\n",
       "[5 rows x 22 columns]"
      ]
     },
     "execution_count": 1,
     "metadata": {},
     "output_type": "execute_result"
    }
   ],
   "source": [
    "# Read file into dataframe\n",
    "df_tweets = pd.read_csv('../05_Feature Selection & Engineering/dataset_tweets_featured.csv', sep=',', encoding='utf-8')\n",
    "print(df_tweets.shape)\n",
    "df_tweets.head(5)"
   ]
  },
  {
   "cell_type": "markdown",
   "metadata": {},
   "source": [
    "## Unpaired_two_sample_t-test"
   ]
  },
  {
   "cell_type": "code",
   "execution_count": 2,
   "metadata": {},
   "outputs": [
    {
     "name": "stdout",
     "output_type": "stream",
     "text": [
      "harass\n",
      "0.0    61058\n",
      "1.0     3285\n",
      "Name: count, dtype: int64\n"
     ]
    }
   ],
   "source": [
    "# Show categories of 'Type'\n",
    "print(df_tweets['harass'].value_counts())"
   ]
  },
  {
   "cell_type": "code",
   "execution_count": 3,
   "metadata": {},
   "outputs": [
    {
     "name": "stderr",
     "output_type": "stream",
     "text": [
      "/Users/salomekoller/anaconda3/envs/pga/lib/python3.11/site-packages/seaborn/_oldcore.py:1498: FutureWarning: is_categorical_dtype is deprecated and will be removed in a future version. Use isinstance(dtype, CategoricalDtype) instead\n",
      "  if pd.api.types.is_categorical_dtype(vector):\n",
      "/Users/salomekoller/anaconda3/envs/pga/lib/python3.11/site-packages/seaborn/_oldcore.py:1498: FutureWarning: is_categorical_dtype is deprecated and will be removed in a future version. Use isinstance(dtype, CategoricalDtype) instead\n",
      "  if pd.api.types.is_categorical_dtype(vector):\n",
      "/Users/salomekoller/anaconda3/envs/pga/lib/python3.11/site-packages/seaborn/_oldcore.py:1498: FutureWarning: is_categorical_dtype is deprecated and will be removed in a future version. Use isinstance(dtype, CategoricalDtype) instead\n",
      "  if pd.api.types.is_categorical_dtype(vector):\n"
     ]
    },
    {
     "data": {
      "image/png": "[encoded data removed]",
      "text/plain": [
       "<Figure size 800x200 with 1 Axes>"
      ]
     },
     "metadata": {},
     "output_type": "display_data"
    }
   ],
   "source": [
    "# Plot boxplot with groups\n",
    "plt.figure(figsize=(8,2))\n",
    "ax = sns.boxplot(x=\"char_count\",\n",
    "                 y=\"harass\",\n",
    "                 palette=['b', 'g'],\n",
    "                 data=df_tweets,\n",
    "                 orient='h',\n",
    "                 showfliers=False)\n",
    "\n",
    "plt.grid()\n",
    "plt.show()"
   ]
  },
  {
   "cell_type": "markdown",
   "metadata": {},
   "source": [
    "### Unpaired two-sample t-test"
   ]
  },
  {
   "cell_type": "code",
   "execution_count": 4,
   "metadata": {},
   "outputs": [
    {
     "name": "stdout",
     "output_type": "stream",
     "text": [
      "Test-statistic: -30.65969 p-value 0.0\n"
     ]
    }
   ],
   "source": [
    " # Create subsets (groups)\n",
    "not_harass = df_tweets.loc[df_tweets['harass'] == 0]\n",
    "harass = df_tweets.loc[df_tweets['harass'] == 1]\n",
    "\n",
    "# Create t-test\n",
    "result = stats.ttest_ind(not_harass['char_count'], harass['char_count'])\n",
    "\n",
    "# Print result\n",
    "print('Test-statistic:', result[0].round(5), 'p-value',  result[1].round(5))"
   ]
  },
  {
   "cell_type": "markdown",
   "metadata": {},
   "source": [
    "### Interpretation of Result\n",
    "**H0**: The amount of characters in tweets differs to a tweet that is labeled as 'harass' to one, that is labeled as 'not_harass'.\n",
    "<br /><br />\n",
    "**H1**:  The amount of characters in tweets **does not** differ to a tweet that is labeled as 'harass' to one, that is labeled as 'not_harass'. <br /><br />\n",
    "Because the p-value is lower than 0.05, the null hypothesis can be rejected, i.e. there is evidence that the characteristic count of tweets and tweets classified as harrass or not_harass, differ. From the t-test above, it is not clear which type is higher or lower. It only shows that there is a statistically significant (5% significance level) difference."
   ]
  },
  {
   "cell_type": "markdown",
   "metadata": {},
   "source": [
    "## Additional Question\n",
    "\n",
    "The following Graph shows, that a Sender is uniquely sending messages to 5 to 35 other people. </b>\n",
    "For example, if a bar on the plot reaches a height of 100 at x=10, it means there are 100 senderuser_ids that interact with 10 unique receiveruser_ids."
   ]
  },
  {
   "cell_type": "code",
   "execution_count": 5,
   "metadata": {},
   "outputs": [
    {
     "ename": "SyntaxError",
     "evalue": "invalid syntax (2754958159.py, line 9)",
     "output_type": "error",
     "traceback": [
      "\u001b[0;36m  Cell \u001b[0;32mIn[5], line 9\u001b[0;36m\u001b[0m\n\u001b[0;31m    Count Uniqueness: Now, for each sender, the code figures out how many different receivers they talked to. It counts the unique receiver IDs for each sender.\u001b[0m\n\u001b[0m          ^\u001b[0m\n\u001b[0;31mSyntaxError\u001b[0m\u001b[0;31m:\u001b[0m invalid syntax\n"
     ]
    }
   ],
   "source": [
    "# Plot Created from ChatGPT\n",
    "# Create a DataFrame representing the frequency of unique sender-receiver pairs\n",
    "# Count Pairs: List of messages between people. \n",
    "# The code looks at each pair of senders and receivers and counts how many messages they exchanged. \n",
    "# This information is stored in a table called sender_receiver_counts.\n",
    "# Count Uniqueness: Now, for each sender, the code figures out how many different receivers they talked to. \n",
    "# It counts the unique receiver IDs for each sender.\n",
    "\n",
    "Count Uniqueness: Now, for each sender, the code figures out how many different receivers they talked to. It counts the unique receiver IDs for each sender.\n",
    "sender_receiver_counts = df_tweets.groupby(['senderuser_id', 'receiveruser_id']).size().reset_index(name='message_count')\n",
    "\n",
    "# Count the number of unique receiveruser_ids each senderuser_id communicates with\n",
    "unique_receiver_counts = sender_receiver_counts.groupby('senderuser_id')['receiveruser_id'].nunique()\n",
    "\n",
    "# Plotting\n",
    "plt.figure(figsize=(12, 6))\n",
    "sns.histplot(unique_receiver_counts, bins=20, kde=False, color='skyblue')\n",
    "plt.title('Number of Unique Receiveruser_ids for Each Senderuser_id')\n",
    "plt.xlabel('Number of Unique Receiveruser_ids')\n",
    "plt.ylabel('Frequency')\n",
    "plt.xticks(rotation=45, ha='right')\n",
    "plt.tight_layout()\n",
    "plt.show()"
   ]
  },
  {
   "cell_type": "markdown",
   "metadata": {},
   "source": [
    "### Interactions\n",
    "The following Code forms groups based on unique combinations of sender and receiver pairs. </b>\n",
    "The Graph shows, that for each combination of 'senderuser_id' and 'receiveruser_id', there is only one interaction recorded in the dataset."
   ]
  },
  {
   "cell_type": "code",
   "execution_count": null,
   "metadata": {},
   "outputs": [
    {
     "name": "stderr",
     "output_type": "stream",
     "text": [
      "/Users/salomekoller/anaconda3/envs/pga/lib/python3.11/site-packages/seaborn/_oldcore.py:1498: FutureWarning: is_categorical_dtype is deprecated and will be removed in a future version. Use isinstance(dtype, CategoricalDtype) instead\n",
      "  if pd.api.types.is_categorical_dtype(vector):\n",
      "/Users/salomekoller/anaconda3/envs/pga/lib/python3.11/site-packages/seaborn/_oldcore.py:1119: FutureWarning: use_inf_as_na option is deprecated and will be removed in a future version. Convert inf values to NaN before operating instead.\n",
      "  with pd.option_context('mode.use_inf_as_na', True):\n"
     ]
    },
    {
     "data": {
      "image/png": "[encoded data removed]",
      "text/plain": [
       "<Figure size 1200x600 with 1 Axes>"
      ]
     },
     "metadata": {},
     "output_type": "display_data"
    }
   ],
   "source": [
    "# Plot Created from ChatGPT\n",
    "# Create a DataFrame representing the frequency of each sender-receiver pair\n",
    "sender_receiver_counts = df_tweets.groupby(['senderuser_id', 'receiveruser_id']).size().reset_index(name='message_count')\n",
    "\n",
    "# Plotting\n",
    "plt.figure(figsize=(12, 6))\n",
    "sns.histplot(sender_receiver_counts['message_count'], bins=20, kde=False, color='lightcoral')\n",
    "plt.title('Frequency of Non-Unique Tweet Interactions (Same Sender-Receiver Pair)')\n",
    "plt.xlabel('Number of Interactions')\n",
    "plt.ylabel('Frequency')\n",
    "plt.xticks(rotation=45, ha='right')\n",
    "plt.tight_layout()\n",
    "plt.show()"
   ]
  },
  {
   "cell_type": "markdown",
   "metadata": {},
   "source": [
    "### Conlusion\n",
    "\n",
    "**Additional Question**: Is there evidence to suggest that the distribution of the number of unique receiveruser_ids for each senderuser_id follows a normal distribution, and is there any significant difference in the frequency of senderuser_ids based on the number of unique receiveruser_ids, indicating that the interaction patterns are evenly spread or normally distributed across the dataset?\n",
    "\n",
    "- The distribution of the number of unique receiveruser_ids for each senderuser_id does not appear to follow a uniform or normal distribution\n",
    "- Instead, it shows a skewed distribution where most senderuser_ids have a relatively low number of unique receiveruser_ids.\n",
    "- The interaction patterns are not evenly spread across the dataset; rather, they are characterized by a concentration of senderuser_ids with a limited set of unique receiveruser_ids."
   ]
  }
 ],
 "metadata": {
  "kernelspec": {
   "display_name": "pga",
   "language": "python",
   "name": "python3"
  },
  "language_info": {
   "codemirror_mode": {
    "name": "ipython",
    "version": 3
   },
   "file_extension": ".py",
   "mimetype": "text/x-python",
   "name": "python",
   "nbconvert_exporter": "python",
   "pygments_lexer": "ipython3",
   "version": "3.11.5"
  }
 },
 "nbformat": 4,
 "nbformat_minor": 2
}
