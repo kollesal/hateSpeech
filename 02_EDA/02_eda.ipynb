{
 "cells": [
  {
   "attachments": {},
   "cell_type": "markdown",
   "metadata": {},
   "source": [
    "# Explorative Datenanalyse"
   ]
  },
  {
   "attachments": {},
   "cell_type": "markdown",
   "metadata": {},
   "source": [
    "## Import of required libraries\n",
    "Those libraries are used in the notebook to perform the data preparation. Maybee you need to install them first with `pip install <library>`.  "
   ]
  },
  {
   "cell_type": "code",
   "execution_count": 1,
   "metadata": {},
   "outputs": [],
   "source": [
    "# Load the libraries\n",
    "import pandas as pd\n",
    "import numpy as np\n",
    "import matplotlib.pyplot as plt\n",
    "import seaborn as sns\n",
    "%matplotlib inline"
   ]
  },
  {
   "cell_type": "code",
   "execution_count": 9,
   "metadata": {},
   "outputs": [
    {
     "name": "stdout",
     "output_type": "stream",
     "text": [
      "(64344, 22)\n"
     ]
    },
    {
     "data": {
      "text/plain": [
       "<bound method NDFrame.head of        interaction_id  tweet_id  senderuser_id  receiveruser_id  \\\n",
       "0                1304      1510            876             2009   \n",
       "1                1998     31503            918             2436   \n",
       "2                2533     27942           1409             3624   \n",
       "3                2598     52129           1341             3290   \n",
       "4                3511     54626            831             2812   \n",
       "...               ...       ...            ...              ...   \n",
       "64339           64340     45741            781               45   \n",
       "64340           64341     35213           2164              402   \n",
       "64341           64343      1749           1132              531   \n",
       "64342           64344     17969           1026             3618   \n",
       "64343           64345     31440           2629             1521   \n",
       "\n",
       "        cyberbullying_type interaction_timestamp  char_count  \\\n",
       "0        not_cyberbullying               41:34.9          20   \n",
       "1      other_cyberbullying               37:48.7          16   \n",
       "2      other_cyberbullying               50:46.1           7   \n",
       "3                     none               04:51.4          26   \n",
       "4                     none               11:11.2          34   \n",
       "...                    ...                   ...         ...   \n",
       "64339            ethnicity               59:33.9         128   \n",
       "64340                  age               50:00.8         211   \n",
       "64341    not_cyberbullying               09:09.1         101   \n",
       "64342             religion               13:39.1         140   \n",
       "64343  other_cyberbullying               35:14.8         112   \n",
       "\n",
       "                                              tweet_text  harass  cyberstalk  \\\n",
       "0                                     @GYU WHAT IS THAT      0.0         0.0   \n",
       "1                                       @STOCKPUTOUT YES     0.0         0.0   \n",
       "2                                                            0.0         0.0   \n",
       "3                             @BLACKAMAZON EXACTLY THIS      0.0         0.0   \n",
       "4                       @ODDTANKOUT HTTP   T CO KMMJEUME     0.0         0.0   \n",
       "...                                                  ...     ...         ...   \n",
       "64339  ONLY THING THAT HEATS MY HEAD MORE IS WHEN I S...     0.0         0.0   \n",
       "64340  FOUND OUT THE GIRL WHO SPREAD (TRUE) RUMOURS A...     0.0         0.0   \n",
       "64341  NIÑAS  REINAS DEL “BULLYING” EN ESCUELAS PRIVA...     1.0         0.0   \n",
       "64342  @DIANH AS USUAL  YOU ARE A MUSLIM LIAR MAKING ...     0.0         0.0   \n",
       "64343  THOSE  MAKING IT THROUGH TO THE NEXT ROUND  CO...     0.0         0.0   \n",
       "\n",
       "       ...  doxing  exclusion  impersonation  trolling  hateSpeech  threats  \\\n",
       "0      ...     0.0        0.0            0.0       0.0         0.0      0.0   \n",
       "1      ...     0.0        0.0            0.0       0.0         0.0      0.0   \n",
       "2      ...     0.0        0.0            0.0       0.0         0.0      0.0   \n",
       "3      ...     0.0        0.0            0.0       0.0         0.0      0.0   \n",
       "4      ...     0.0        0.0            0.0       0.0         0.0      0.0   \n",
       "...    ...     ...        ...            ...       ...         ...      ...   \n",
       "64339  ...     0.0        0.0            0.0       0.0         0.0      0.0   \n",
       "64340  ...     1.0        0.0            1.0       0.0         0.0      0.0   \n",
       "64341  ...     0.0        0.0            0.0       0.0         0.0      0.0   \n",
       "64342  ...     0.0        0.0            0.0       0.0         0.0      0.0   \n",
       "64343  ...     0.0        0.0            0.0       0.0         0.0      0.0   \n",
       "\n",
       "       word_count  avg_word_length  avg_sentence_length  punctuation_count  \n",
       "0               4         2.800000                  5.0                  1  \n",
       "1               2         5.000000                  3.0                  1  \n",
       "2               0         0.000000                  0.0                  0  \n",
       "3               3         5.750000                  4.0                  1  \n",
       "4               5         4.333333                  6.0                  1  \n",
       "...           ...              ...                  ...                ...  \n",
       "64339          25         4.000000                 25.0                  0  \n",
       "64340          43         3.755556                 45.0                  2  \n",
       "64341          18         3.800000                 20.0                  0  \n",
       "64342          25         4.192308                 26.0                  1  \n",
       "64343          19         4.500000                 20.0                  1  \n",
       "\n",
       "[64344 rows x 22 columns]>"
      ]
     },
     "execution_count": 9,
     "metadata": {},
     "output_type": "execute_result"
    }
   ],
   "source": [
    "# Read file into dataframe\n",
    "df_tweets = pd.read_csv('..\\\\06_Feature Selection & Engineering\\\\06_dataset_tweets_featured.csv', sep=',', encoding='utf-8')\n",
    "print(df_tweets.shape)\n",
    "df_tweets.head"
   ]
  },
  {
   "cell_type": "markdown",
   "metadata": {},
   "source": [
    "Drop the Column 'tweet_text'"
   ]
  },
  {
   "cell_type": "code",
   "execution_count": 10,
   "metadata": {},
   "outputs": [],
   "source": [
    "df_tweets = df_tweets[['cyberbullying_type', 'harass', 'cyberstalk', 'flaming', 'outing', 'doxing', 'exclusion', 'impersonation', 'trolling', 'hateSpeech', 'threats']]"
   ]
  },
  {
   "cell_type": "code",
   "execution_count": 11,
   "metadata": {},
   "outputs": [
    {
     "data": {
      "text/plain": [
       "array(['not_cyberbullying', 'other_cyberbullying', 'none', 'gender',\n",
       "       'sexism', 'age', 'ethnicity', 'religion', 'racism', nan],\n",
       "      dtype=object)"
      ]
     },
     "execution_count": 11,
     "metadata": {},
     "output_type": "execute_result"
    }
   ],
   "source": [
    "df_tweets['cyberbullying_type'].unique()"
   ]
  },
  {
   "attachments": {},
   "cell_type": "markdown",
   "metadata": {},
   "source": [
    "## Data Cleaning and Preparation\n",
    "This step is in the File Folder \"04_Data Cleansing\"."
   ]
  },
  {
   "attachments": {},
   "cell_type": "markdown",
   "metadata": {},
   "source": [
    "## Declaration of the data"
   ]
  },
  {
   "cell_type": "code",
   "execution_count": 12,
   "metadata": {},
   "outputs": [
    {
     "data": {
      "text/plain": [
       "(64344, 11)"
      ]
     },
     "execution_count": 12,
     "metadata": {},
     "output_type": "execute_result"
    }
   ],
   "source": [
    "df_tweets.shape"
   ]
  },
  {
   "cell_type": "code",
   "execution_count": 13,
   "metadata": {},
   "outputs": [
    {
     "name": "stdout",
     "output_type": "stream",
     "text": [
      "<class 'pandas.core.frame.DataFrame'>\n",
      "RangeIndex: 64344 entries, 0 to 64343\n",
      "Data columns (total 11 columns):\n",
      " #   Column              Non-Null Count  Dtype  \n",
      "---  ------              --------------  -----  \n",
      " 0   cyberbullying_type  64342 non-null  object \n",
      " 1   harass              64343 non-null  float64\n",
      " 2   cyberstalk          64343 non-null  float64\n",
      " 3   flaming             64343 non-null  float64\n",
      " 4   outing              64343 non-null  float64\n",
      " 5   doxing              64343 non-null  float64\n",
      " 6   exclusion           64343 non-null  float64\n",
      " 7   impersonation       64343 non-null  float64\n",
      " 8   trolling            64343 non-null  float64\n",
      " 9   hateSpeech          64343 non-null  float64\n",
      " 10  threats             64343 non-null  float64\n",
      "dtypes: float64(10), object(1)\n",
      "memory usage: 5.4+ MB\n"
     ]
    }
   ],
   "source": [
    "df_tweets.info()"
   ]
  },
  {
   "attachments": {},
   "cell_type": "markdown",
   "metadata": {},
   "source": [
    "### Non Graphical Univariate EDA"
   ]
  },
  {
   "attachments": {},
   "cell_type": "markdown",
   "metadata": {},
   "source": [
    "#### Summary statistics of numeric variables"
   ]
  },
  {
   "cell_type": "code",
   "execution_count": 14,
   "metadata": {},
   "outputs": [
    {
     "data": {
      "text/html": [
       "<div>\n",
       "<style scoped>\n",
       "    .dataframe tbody tr th:only-of-type {\n",
       "        vertical-align: middle;\n",
       "    }\n",
       "\n",
       "    .dataframe tbody tr th {\n",
       "        vertical-align: top;\n",
       "    }\n",
       "\n",
       "    .dataframe thead th {\n",
       "        text-align: right;\n",
       "    }\n",
       "</style>\n",
       "<table border=\"1\" class=\"dataframe\">\n",
       "  <thead>\n",
       "    <tr style=\"text-align: right;\">\n",
       "      <th></th>\n",
       "      <th>harass</th>\n",
       "      <th>cyberstalk</th>\n",
       "      <th>flaming</th>\n",
       "      <th>outing</th>\n",
       "      <th>doxing</th>\n",
       "      <th>exclusion</th>\n",
       "      <th>impersonation</th>\n",
       "      <th>trolling</th>\n",
       "      <th>hateSpeech</th>\n",
       "      <th>threats</th>\n",
       "    </tr>\n",
       "  </thead>\n",
       "  <tbody>\n",
       "    <tr>\n",
       "      <th>count</th>\n",
       "      <td>64343.000000</td>\n",
       "      <td>64343.000000</td>\n",
       "      <td>64343.000000</td>\n",
       "      <td>64343.000000</td>\n",
       "      <td>64343.00000</td>\n",
       "      <td>64343.00000</td>\n",
       "      <td>64343.000000</td>\n",
       "      <td>64343.000000</td>\n",
       "      <td>64343.000000</td>\n",
       "      <td>64343.000000</td>\n",
       "    </tr>\n",
       "    <tr>\n",
       "      <th>mean</th>\n",
       "      <td>0.051055</td>\n",
       "      <td>0.035559</td>\n",
       "      <td>0.009558</td>\n",
       "      <td>0.008439</td>\n",
       "      <td>0.01736</td>\n",
       "      <td>0.00373</td>\n",
       "      <td>0.009931</td>\n",
       "      <td>0.015604</td>\n",
       "      <td>0.107082</td>\n",
       "      <td>0.024944</td>\n",
       "    </tr>\n",
       "    <tr>\n",
       "      <th>std</th>\n",
       "      <td>0.220111</td>\n",
       "      <td>0.185190</td>\n",
       "      <td>0.097298</td>\n",
       "      <td>0.091477</td>\n",
       "      <td>0.13061</td>\n",
       "      <td>0.06096</td>\n",
       "      <td>0.099160</td>\n",
       "      <td>0.123938</td>\n",
       "      <td>0.309220</td>\n",
       "      <td>0.155957</td>\n",
       "    </tr>\n",
       "    <tr>\n",
       "      <th>min</th>\n",
       "      <td>0.000000</td>\n",
       "      <td>0.000000</td>\n",
       "      <td>0.000000</td>\n",
       "      <td>0.000000</td>\n",
       "      <td>0.00000</td>\n",
       "      <td>0.00000</td>\n",
       "      <td>0.000000</td>\n",
       "      <td>0.000000</td>\n",
       "      <td>0.000000</td>\n",
       "      <td>0.000000</td>\n",
       "    </tr>\n",
       "    <tr>\n",
       "      <th>25%</th>\n",
       "      <td>0.000000</td>\n",
       "      <td>0.000000</td>\n",
       "      <td>0.000000</td>\n",
       "      <td>0.000000</td>\n",
       "      <td>0.00000</td>\n",
       "      <td>0.00000</td>\n",
       "      <td>0.000000</td>\n",
       "      <td>0.000000</td>\n",
       "      <td>0.000000</td>\n",
       "      <td>0.000000</td>\n",
       "    </tr>\n",
       "    <tr>\n",
       "      <th>50%</th>\n",
       "      <td>0.000000</td>\n",
       "      <td>0.000000</td>\n",
       "      <td>0.000000</td>\n",
       "      <td>0.000000</td>\n",
       "      <td>0.00000</td>\n",
       "      <td>0.00000</td>\n",
       "      <td>0.000000</td>\n",
       "      <td>0.000000</td>\n",
       "      <td>0.000000</td>\n",
       "      <td>0.000000</td>\n",
       "    </tr>\n",
       "    <tr>\n",
       "      <th>75%</th>\n",
       "      <td>0.000000</td>\n",
       "      <td>0.000000</td>\n",
       "      <td>0.000000</td>\n",
       "      <td>0.000000</td>\n",
       "      <td>0.00000</td>\n",
       "      <td>0.00000</td>\n",
       "      <td>0.000000</td>\n",
       "      <td>0.000000</td>\n",
       "      <td>0.000000</td>\n",
       "      <td>0.000000</td>\n",
       "    </tr>\n",
       "    <tr>\n",
       "      <th>max</th>\n",
       "      <td>1.000000</td>\n",
       "      <td>1.000000</td>\n",
       "      <td>1.000000</td>\n",
       "      <td>1.000000</td>\n",
       "      <td>1.00000</td>\n",
       "      <td>1.00000</td>\n",
       "      <td>1.000000</td>\n",
       "      <td>1.000000</td>\n",
       "      <td>1.000000</td>\n",
       "      <td>1.000000</td>\n",
       "    </tr>\n",
       "  </tbody>\n",
       "</table>\n",
       "</div>"
      ],
      "text/plain": [
       "             harass    cyberstalk       flaming        outing       doxing  \\\n",
       "count  64343.000000  64343.000000  64343.000000  64343.000000  64343.00000   \n",
       "mean       0.051055      0.035559      0.009558      0.008439      0.01736   \n",
       "std        0.220111      0.185190      0.097298      0.091477      0.13061   \n",
       "min        0.000000      0.000000      0.000000      0.000000      0.00000   \n",
       "25%        0.000000      0.000000      0.000000      0.000000      0.00000   \n",
       "50%        0.000000      0.000000      0.000000      0.000000      0.00000   \n",
       "75%        0.000000      0.000000      0.000000      0.000000      0.00000   \n",
       "max        1.000000      1.000000      1.000000      1.000000      1.00000   \n",
       "\n",
       "         exclusion  impersonation      trolling    hateSpeech       threats  \n",
       "count  64343.00000   64343.000000  64343.000000  64343.000000  64343.000000  \n",
       "mean       0.00373       0.009931      0.015604      0.107082      0.024944  \n",
       "std        0.06096       0.099160      0.123938      0.309220      0.155957  \n",
       "min        0.00000       0.000000      0.000000      0.000000      0.000000  \n",
       "25%        0.00000       0.000000      0.000000      0.000000      0.000000  \n",
       "50%        0.00000       0.000000      0.000000      0.000000      0.000000  \n",
       "75%        0.00000       0.000000      0.000000      0.000000      0.000000  \n",
       "max        1.00000       1.000000      1.000000      1.000000      1.000000  "
      ]
     },
     "execution_count": 14,
     "metadata": {},
     "output_type": "execute_result"
    }
   ],
   "source": [
    "df_tweets[['harass', 'cyberstalk', 'flaming', 'outing', 'doxing', 'exclusion', 'impersonation', 'trolling', 'hateSpeech', 'threats']].describe()"
   ]
  },
  {
   "attachments": {},
   "cell_type": "markdown",
   "metadata": {},
   "source": [
    "#### Quantiles\n",
    "As the colums only have the value 0 or 1, the Quantiles are set accordingly."
   ]
  },
  {
   "cell_type": "code",
   "execution_count": 15,
   "metadata": {},
   "outputs": [
    {
     "data": {
      "text/html": [
       "<div>\n",
       "<style scoped>\n",
       "    .dataframe tbody tr th:only-of-type {\n",
       "        vertical-align: middle;\n",
       "    }\n",
       "\n",
       "    .dataframe tbody tr th {\n",
       "        vertical-align: top;\n",
       "    }\n",
       "\n",
       "    .dataframe thead th {\n",
       "        text-align: right;\n",
       "    }\n",
       "</style>\n",
       "<table border=\"1\" class=\"dataframe\">\n",
       "  <thead>\n",
       "    <tr style=\"text-align: right;\">\n",
       "      <th></th>\n",
       "      <th>harass</th>\n",
       "      <th>cyberstalk</th>\n",
       "      <th>flaming</th>\n",
       "      <th>outing</th>\n",
       "      <th>doxing</th>\n",
       "      <th>exclusion</th>\n",
       "      <th>impersonation</th>\n",
       "      <th>trolling</th>\n",
       "      <th>hateSpeech</th>\n",
       "      <th>threats</th>\n",
       "    </tr>\n",
       "  </thead>\n",
       "  <tbody>\n",
       "    <tr>\n",
       "      <th>0.05</th>\n",
       "      <td>0.0</td>\n",
       "      <td>0.0</td>\n",
       "      <td>0.0</td>\n",
       "      <td>0.0</td>\n",
       "      <td>0.0</td>\n",
       "      <td>0.0</td>\n",
       "      <td>0.0</td>\n",
       "      <td>0.0</td>\n",
       "      <td>0.0</td>\n",
       "      <td>0.0</td>\n",
       "    </tr>\n",
       "    <tr>\n",
       "      <th>0.10</th>\n",
       "      <td>0.0</td>\n",
       "      <td>0.0</td>\n",
       "      <td>0.0</td>\n",
       "      <td>0.0</td>\n",
       "      <td>0.0</td>\n",
       "      <td>0.0</td>\n",
       "      <td>0.0</td>\n",
       "      <td>0.0</td>\n",
       "      <td>0.0</td>\n",
       "      <td>0.0</td>\n",
       "    </tr>\n",
       "    <tr>\n",
       "      <th>0.25</th>\n",
       "      <td>0.0</td>\n",
       "      <td>0.0</td>\n",
       "      <td>0.0</td>\n",
       "      <td>0.0</td>\n",
       "      <td>0.0</td>\n",
       "      <td>0.0</td>\n",
       "      <td>0.0</td>\n",
       "      <td>0.0</td>\n",
       "      <td>0.0</td>\n",
       "      <td>0.0</td>\n",
       "    </tr>\n",
       "    <tr>\n",
       "      <th>0.50</th>\n",
       "      <td>0.0</td>\n",
       "      <td>0.0</td>\n",
       "      <td>0.0</td>\n",
       "      <td>0.0</td>\n",
       "      <td>0.0</td>\n",
       "      <td>0.0</td>\n",
       "      <td>0.0</td>\n",
       "      <td>0.0</td>\n",
       "      <td>0.0</td>\n",
       "      <td>0.0</td>\n",
       "    </tr>\n",
       "    <tr>\n",
       "      <th>0.75</th>\n",
       "      <td>0.0</td>\n",
       "      <td>0.0</td>\n",
       "      <td>0.0</td>\n",
       "      <td>0.0</td>\n",
       "      <td>0.0</td>\n",
       "      <td>0.0</td>\n",
       "      <td>0.0</td>\n",
       "      <td>0.0</td>\n",
       "      <td>0.0</td>\n",
       "      <td>0.0</td>\n",
       "    </tr>\n",
       "    <tr>\n",
       "      <th>0.90</th>\n",
       "      <td>0.0</td>\n",
       "      <td>0.0</td>\n",
       "      <td>0.0</td>\n",
       "      <td>0.0</td>\n",
       "      <td>0.0</td>\n",
       "      <td>0.0</td>\n",
       "      <td>0.0</td>\n",
       "      <td>0.0</td>\n",
       "      <td>1.0</td>\n",
       "      <td>0.0</td>\n",
       "    </tr>\n",
       "    <tr>\n",
       "      <th>0.95</th>\n",
       "      <td>1.0</td>\n",
       "      <td>0.0</td>\n",
       "      <td>0.0</td>\n",
       "      <td>0.0</td>\n",
       "      <td>0.0</td>\n",
       "      <td>0.0</td>\n",
       "      <td>0.0</td>\n",
       "      <td>0.0</td>\n",
       "      <td>1.0</td>\n",
       "      <td>0.0</td>\n",
       "    </tr>\n",
       "  </tbody>\n",
       "</table>\n",
       "</div>"
      ],
      "text/plain": [
       "      harass  cyberstalk  flaming  outing  doxing  exclusion  impersonation  \\\n",
       "0.05     0.0         0.0      0.0     0.0     0.0        0.0            0.0   \n",
       "0.10     0.0         0.0      0.0     0.0     0.0        0.0            0.0   \n",
       "0.25     0.0         0.0      0.0     0.0     0.0        0.0            0.0   \n",
       "0.50     0.0         0.0      0.0     0.0     0.0        0.0            0.0   \n",
       "0.75     0.0         0.0      0.0     0.0     0.0        0.0            0.0   \n",
       "0.90     0.0         0.0      0.0     0.0     0.0        0.0            0.0   \n",
       "0.95     1.0         0.0      0.0     0.0     0.0        0.0            0.0   \n",
       "\n",
       "      trolling  hateSpeech  threats  \n",
       "0.05       0.0         0.0      0.0  \n",
       "0.10       0.0         0.0      0.0  \n",
       "0.25       0.0         0.0      0.0  \n",
       "0.50       0.0         0.0      0.0  \n",
       "0.75       0.0         0.0      0.0  \n",
       "0.90       0.0         1.0      0.0  \n",
       "0.95       0.0         1.0      0.0  "
      ]
     },
     "execution_count": 15,
     "metadata": {},
     "output_type": "execute_result"
    }
   ],
   "source": [
    "df_tweets[['harass', 'cyberstalk', 'flaming', 'outing', 'doxing', 'exclusion', 'impersonation', 'trolling', 'hateSpeech', 'threats']].quantile(q=[0.05, 0.10, 0.25, 0.50, 0.75, 0.90, 0.95], axis=0, numeric_only=True).round(2)"
   ]
  },
  {
   "attachments": {},
   "cell_type": "markdown",
   "metadata": {},
   "source": [
    "#### Measures of dispersion"
   ]
  },
  {
   "cell_type": "code",
   "execution_count": 16,
   "metadata": {},
   "outputs": [
    {
     "data": {
      "text/plain": [
       "harass           0.048449\n",
       "cyberstalk       0.034295\n",
       "flaming          0.009467\n",
       "outing           0.008368\n",
       "doxing           0.017059\n",
       "exclusion        0.003716\n",
       "impersonation    0.009833\n",
       "trolling         0.015361\n",
       "hateSpeech       0.095617\n",
       "threats          0.024323\n",
       "dtype: float64"
      ]
     },
     "execution_count": 16,
     "metadata": {},
     "output_type": "execute_result"
    }
   ],
   "source": [
    "df_tweets[['harass', 'cyberstalk', 'flaming', 'outing', 'doxing', 'exclusion', 'impersonation', 'trolling', 'hateSpeech', 'threats']].var()"
   ]
  },
  {
   "cell_type": "code",
   "execution_count": 17,
   "metadata": {},
   "outputs": [
    {
     "data": {
      "text/plain": [
       "harass           0.220111\n",
       "cyberstalk       0.185190\n",
       "flaming          0.097298\n",
       "outing           0.091477\n",
       "doxing           0.130610\n",
       "exclusion        0.060960\n",
       "impersonation    0.099160\n",
       "trolling         0.123938\n",
       "hateSpeech       0.309220\n",
       "threats          0.155957\n",
       "dtype: float64"
      ]
     },
     "execution_count": 17,
     "metadata": {},
     "output_type": "execute_result"
    }
   ],
   "source": [
    "df_tweets[['harass', 'cyberstalk', 'flaming', 'outing', 'doxing', 'exclusion', 'impersonation', 'trolling', 'hateSpeech', 'threats']].std()"
   ]
  },
  {
   "attachments": {},
   "cell_type": "markdown",
   "metadata": {},
   "source": [
    "#### Skewness"
   ]
  },
  {
   "cell_type": "code",
   "execution_count": 18,
   "metadata": {},
   "outputs": [
    {
     "data": {
      "text/plain": [
       "harass            4.079398\n",
       "cyberstalk        5.015973\n",
       "flaming          10.081525\n",
       "outing           10.747525\n",
       "doxing            7.390779\n",
       "exclusion        16.282258\n",
       "impersonation     9.884728\n",
       "trolling          7.816991\n",
       "hateSpeech        2.541423\n",
       "threats           6.092324\n",
       "dtype: float64"
      ]
     },
     "execution_count": 18,
     "metadata": {},
     "output_type": "execute_result"
    }
   ],
   "source": [
    "df_tweets[['harass', 'cyberstalk', 'flaming', 'outing', 'doxing', 'exclusion', 'impersonation', 'trolling', 'hateSpeech', 'threats']].skew()"
   ]
  },
  {
   "cell_type": "markdown",
   "metadata": {},
   "source": [
    "The skewness of the values are <0, which means they're right-skewed."
   ]
  },
  {
   "attachments": {},
   "cell_type": "markdown",
   "metadata": {},
   "source": [
    "#### Kurtosis"
   ]
  },
  {
   "cell_type": "code",
   "execution_count": 19,
   "metadata": {},
   "outputs": [
    {
     "data": {
      "text/plain": [
       "harass            14.641943\n",
       "cyberstalk        23.160704\n",
       "flaming           99.640251\n",
       "outing           113.512821\n",
       "doxing            52.625251\n",
       "exclusion        263.120117\n",
       "impersonation     95.710832\n",
       "trolling          59.107191\n",
       "hateSpeech         4.458971\n",
       "threats           35.117501\n",
       "dtype: float64"
      ]
     },
     "execution_count": 19,
     "metadata": {},
     "output_type": "execute_result"
    }
   ],
   "source": [
    "df_tweets[['harass', 'cyberstalk', 'flaming', 'outing', 'doxing', 'exclusion', 'impersonation', 'trolling', 'hateSpeech', 'threats']].kurtosis()"
   ]
  },
  {
   "cell_type": "markdown",
   "metadata": {},
   "source": [
    "The kurtosis values are all pretty high, which means they have a high peak."
   ]
  },
  {
   "attachments": {},
   "cell_type": "markdown",
   "metadata": {},
   "source": [
    "#### Extreme values\n",
    "Because the fields only have the values 0 or 1, there are no extreme values."
   ]
  },
  {
   "cell_type": "code",
   "execution_count": 20,
   "metadata": {},
   "outputs": [
    {
     "name": "stdout",
     "output_type": "stream",
     "text": [
      "Unique values in 'cyberbullying_type' column:['not_cyberbullying' 'other_cyberbullying' 'none' 'gender' 'sexism' 'age'\n",
      " 'ethnicity' 'religion' 'racism' nan]\n",
      "\n",
      "Unique values in 'harass' column:[ 0.  1. nan]\n",
      "\n",
      "Unique values in 'cyberstalk' column:[ 0.  1. nan]\n",
      "\n",
      "Unique values in 'flaming' column:[ 0.  1. nan]\n",
      "\n",
      "Unique values in 'outing' column:[ 0.  1. nan]\n",
      "\n",
      "Unique values in 'doxing' column:[ 0.  1. nan]\n",
      "\n",
      "Unique values in 'exclusion' column:[ 0.  1. nan]\n",
      "\n",
      "Unique values in 'impersonation' column:[ 0.  1. nan]\n",
      "\n",
      "Unique values in 'trolling' column:[ 0.  1. nan]\n",
      "\n",
      "Unique values in 'hateSpeech' column:[ 0.  1. nan]\n",
      "\n",
      "Unique values in 'threats' column:[ 0.  1. nan]\n",
      "\n"
     ]
    }
   ],
   "source": [
    "for column in df_tweets.columns:\n",
    "    # Get unique values in the current column\n",
    "    unique_values = df_tweets[column].unique()\n",
    "    \n",
    "    # Print the column name and its unique values\n",
    "    print(f\"Unique values in '{column}' column:{unique_values}\\n\")"
   ]
  },
  {
   "attachments": {},
   "cell_type": "markdown",
   "metadata": {},
   "source": [
    "## Non Graphical Multivariate EDA"
   ]
  },
  {
   "cell_type": "markdown",
   "metadata": {},
   "source": [
    "### Cross-tabulation"
   ]
  },
  {
   "cell_type": "code",
   "execution_count": 21,
   "metadata": {},
   "outputs": [
    {
     "data": {
      "text/html": [
       "<div>\n",
       "<style scoped>\n",
       "    .dataframe tbody tr th:only-of-type {\n",
       "        vertical-align: middle;\n",
       "    }\n",
       "\n",
       "    .dataframe tbody tr th {\n",
       "        vertical-align: top;\n",
       "    }\n",
       "\n",
       "    .dataframe thead th {\n",
       "        text-align: right;\n",
       "    }\n",
       "</style>\n",
       "<table border=\"1\" class=\"dataframe\">\n",
       "  <thead>\n",
       "    <tr style=\"text-align: right;\">\n",
       "      <th>cyberbullying_type</th>\n",
       "      <th>age</th>\n",
       "      <th>ethnicity</th>\n",
       "      <th>gender</th>\n",
       "      <th>none</th>\n",
       "      <th>not_cyberbullying</th>\n",
       "      <th>other_cyberbullying</th>\n",
       "      <th>racism</th>\n",
       "      <th>religion</th>\n",
       "      <th>sexism</th>\n",
       "    </tr>\n",
       "    <tr>\n",
       "      <th>harass</th>\n",
       "      <th></th>\n",
       "      <th></th>\n",
       "      <th></th>\n",
       "      <th></th>\n",
       "      <th></th>\n",
       "      <th></th>\n",
       "      <th></th>\n",
       "      <th></th>\n",
       "      <th></th>\n",
       "    </tr>\n",
       "  </thead>\n",
       "  <tbody>\n",
       "    <tr>\n",
       "      <th>0.0</th>\n",
       "      <td>7289</td>\n",
       "      <td>7810</td>\n",
       "      <td>7445</td>\n",
       "      <td>11186</td>\n",
       "      <td>7100</td>\n",
       "      <td>7384</td>\n",
       "      <td>1908</td>\n",
       "      <td>7609</td>\n",
       "      <td>3326</td>\n",
       "    </tr>\n",
       "    <tr>\n",
       "      <th>1.0</th>\n",
       "      <td>671</td>\n",
       "      <td>132</td>\n",
       "      <td>501</td>\n",
       "      <td>272</td>\n",
       "      <td>823</td>\n",
       "      <td>413</td>\n",
       "      <td>57</td>\n",
       "      <td>373</td>\n",
       "      <td>43</td>\n",
       "    </tr>\n",
       "  </tbody>\n",
       "</table>\n",
       "</div>"
      ],
      "text/plain": [
       "cyberbullying_type   age  ethnicity  gender   none  not_cyberbullying  \\\n",
       "harass                                                                  \n",
       "0.0                 7289       7810    7445  11186               7100   \n",
       "1.0                  671        132     501    272                823   \n",
       "\n",
       "cyberbullying_type  other_cyberbullying  racism  religion  sexism  \n",
       "harass                                                             \n",
       "0.0                                7384    1908      7609    3326  \n",
       "1.0                                 413      57       373      43  "
      ]
     },
     "execution_count": 21,
     "metadata": {},
     "output_type": "execute_result"
    }
   ],
   "source": [
    "pd.crosstab(df_tweets['harass'], df_tweets['cyberbullying_type'])"
   ]
  },
  {
   "cell_type": "markdown",
   "metadata": {},
   "source": [
    "### Pivot Tables"
   ]
  },
  {
   "cell_type": "code",
   "execution_count": 22,
   "metadata": {},
   "outputs": [
    {
     "data": {
      "text/html": [
       "<div>\n",
       "<style scoped>\n",
       "    .dataframe tbody tr th:only-of-type {\n",
       "        vertical-align: middle;\n",
       "    }\n",
       "\n",
       "    .dataframe tbody tr th {\n",
       "        vertical-align: top;\n",
       "    }\n",
       "\n",
       "    .dataframe thead th {\n",
       "        text-align: right;\n",
       "    }\n",
       "</style>\n",
       "<table border=\"1\" class=\"dataframe\">\n",
       "  <thead>\n",
       "    <tr style=\"text-align: right;\">\n",
       "      <th></th>\n",
       "      <th>cyberstalk</th>\n",
       "      <th>doxing</th>\n",
       "      <th>exclusion</th>\n",
       "      <th>flaming</th>\n",
       "      <th>harass</th>\n",
       "      <th>hateSpeech</th>\n",
       "      <th>impersonation</th>\n",
       "      <th>outing</th>\n",
       "      <th>threats</th>\n",
       "      <th>trolling</th>\n",
       "    </tr>\n",
       "    <tr>\n",
       "      <th>cyberbullying_type</th>\n",
       "      <th></th>\n",
       "      <th></th>\n",
       "      <th></th>\n",
       "      <th></th>\n",
       "      <th></th>\n",
       "      <th></th>\n",
       "      <th></th>\n",
       "      <th></th>\n",
       "      <th></th>\n",
       "      <th></th>\n",
       "    </tr>\n",
       "  </thead>\n",
       "  <tbody>\n",
       "    <tr>\n",
       "      <th>age</th>\n",
       "      <td>0.040829</td>\n",
       "      <td>0.016960</td>\n",
       "      <td>0.008920</td>\n",
       "      <td>0.008040</td>\n",
       "      <td>0.084296</td>\n",
       "      <td>0.062060</td>\n",
       "      <td>0.013693</td>\n",
       "      <td>0.012312</td>\n",
       "      <td>0.029523</td>\n",
       "      <td>0.012563</td>\n",
       "    </tr>\n",
       "    <tr>\n",
       "      <th>ethnicity</th>\n",
       "      <td>0.032360</td>\n",
       "      <td>0.011584</td>\n",
       "      <td>0.002770</td>\n",
       "      <td>0.012339</td>\n",
       "      <td>0.016620</td>\n",
       "      <td>0.124780</td>\n",
       "      <td>0.007681</td>\n",
       "      <td>0.005162</td>\n",
       "      <td>0.011710</td>\n",
       "      <td>0.009821</td>\n",
       "    </tr>\n",
       "    <tr>\n",
       "      <th>gender</th>\n",
       "      <td>0.035238</td>\n",
       "      <td>0.014221</td>\n",
       "      <td>0.004027</td>\n",
       "      <td>0.027183</td>\n",
       "      <td>0.063051</td>\n",
       "      <td>0.257110</td>\n",
       "      <td>0.011075</td>\n",
       "      <td>0.005286</td>\n",
       "      <td>0.036622</td>\n",
       "      <td>0.026932</td>\n",
       "    </tr>\n",
       "    <tr>\n",
       "      <th>none</th>\n",
       "      <td>0.028626</td>\n",
       "      <td>0.018677</td>\n",
       "      <td>0.002007</td>\n",
       "      <td>0.004451</td>\n",
       "      <td>0.023739</td>\n",
       "      <td>0.039448</td>\n",
       "      <td>0.004015</td>\n",
       "      <td>0.008815</td>\n",
       "      <td>0.020859</td>\n",
       "      <td>0.017542</td>\n",
       "    </tr>\n",
       "    <tr>\n",
       "      <th>not_cyberbullying</th>\n",
       "      <td>0.030039</td>\n",
       "      <td>0.013126</td>\n",
       "      <td>0.002019</td>\n",
       "      <td>0.003029</td>\n",
       "      <td>0.103875</td>\n",
       "      <td>0.029156</td>\n",
       "      <td>0.002398</td>\n",
       "      <td>0.006311</td>\n",
       "      <td>0.013631</td>\n",
       "      <td>0.012495</td>\n",
       "    </tr>\n",
       "    <tr>\n",
       "      <th>other_cyberbullying</th>\n",
       "      <td>0.030653</td>\n",
       "      <td>0.021547</td>\n",
       "      <td>0.001539</td>\n",
       "      <td>0.003976</td>\n",
       "      <td>0.052969</td>\n",
       "      <td>0.039118</td>\n",
       "      <td>0.004104</td>\n",
       "      <td>0.010645</td>\n",
       "      <td>0.012825</td>\n",
       "      <td>0.021932</td>\n",
       "    </tr>\n",
       "    <tr>\n",
       "      <th>racism</th>\n",
       "      <td>0.052417</td>\n",
       "      <td>0.020356</td>\n",
       "      <td>0.002545</td>\n",
       "      <td>0.007634</td>\n",
       "      <td>0.029008</td>\n",
       "      <td>0.115522</td>\n",
       "      <td>0.019847</td>\n",
       "      <td>0.007125</td>\n",
       "      <td>0.053944</td>\n",
       "      <td>0.009669</td>\n",
       "    </tr>\n",
       "    <tr>\n",
       "      <th>religion</th>\n",
       "      <td>0.051366</td>\n",
       "      <td>0.027437</td>\n",
       "      <td>0.006264</td>\n",
       "      <td>0.011902</td>\n",
       "      <td>0.046730</td>\n",
       "      <td>0.101102</td>\n",
       "      <td>0.027186</td>\n",
       "      <td>0.013029</td>\n",
       "      <td>0.049486</td>\n",
       "      <td>0.009396</td>\n",
       "    </tr>\n",
       "    <tr>\n",
       "      <th>sexism</th>\n",
       "      <td>0.032057</td>\n",
       "      <td>0.009498</td>\n",
       "      <td>0.002671</td>\n",
       "      <td>0.006233</td>\n",
       "      <td>0.012763</td>\n",
       "      <td>0.397744</td>\n",
       "      <td>0.008311</td>\n",
       "      <td>0.002968</td>\n",
       "      <td>0.011279</td>\n",
       "      <td>0.013951</td>\n",
       "    </tr>\n",
       "  </tbody>\n",
       "</table>\n",
       "</div>"
      ],
      "text/plain": [
       "                     cyberstalk    doxing  exclusion   flaming    harass  \\\n",
       "cyberbullying_type                                                         \n",
       "age                    0.040829  0.016960   0.008920  0.008040  0.084296   \n",
       "ethnicity              0.032360  0.011584   0.002770  0.012339  0.016620   \n",
       "gender                 0.035238  0.014221   0.004027  0.027183  0.063051   \n",
       "none                   0.028626  0.018677   0.002007  0.004451  0.023739   \n",
       "not_cyberbullying      0.030039  0.013126   0.002019  0.003029  0.103875   \n",
       "other_cyberbullying    0.030653  0.021547   0.001539  0.003976  0.052969   \n",
       "racism                 0.052417  0.020356   0.002545  0.007634  0.029008   \n",
       "religion               0.051366  0.027437   0.006264  0.011902  0.046730   \n",
       "sexism                 0.032057  0.009498   0.002671  0.006233  0.012763   \n",
       "\n",
       "                     hateSpeech  impersonation    outing   threats  trolling  \n",
       "cyberbullying_type                                                            \n",
       "age                    0.062060       0.013693  0.012312  0.029523  0.012563  \n",
       "ethnicity              0.124780       0.007681  0.005162  0.011710  0.009821  \n",
       "gender                 0.257110       0.011075  0.005286  0.036622  0.026932  \n",
       "none                   0.039448       0.004015  0.008815  0.020859  0.017542  \n",
       "not_cyberbullying      0.029156       0.002398  0.006311  0.013631  0.012495  \n",
       "other_cyberbullying    0.039118       0.004104  0.010645  0.012825  0.021932  \n",
       "racism                 0.115522       0.019847  0.007125  0.053944  0.009669  \n",
       "religion               0.101102       0.027186  0.013029  0.049486  0.009396  \n",
       "sexism                 0.397744       0.008311  0.002968  0.011279  0.013951  "
      ]
     },
     "execution_count": 22,
     "metadata": {},
     "output_type": "execute_result"
    }
   ],
   "source": [
    "pd.pivot_table(df_tweets[['cyberbullying_type', 'harass', 'cyberstalk', 'flaming', 'outing', 'doxing', 'exclusion', 'impersonation', 'trolling', 'hateSpeech', 'threats']],\n",
    "               index=['cyberbullying_type'],\n",
    "               values=['harass', 'cyberstalk', 'flaming', 'outing', 'doxing', 'exclusion', 'impersonation', 'trolling', 'hateSpeech', 'threats'],\n",
    "               aggfunc=np.mean)"
   ]
  },
  {
   "cell_type": "markdown",
   "metadata": {},
   "source": [
    "### Correlation Matrix"
   ]
  },
  {
   "cell_type": "code",
   "execution_count": 23,
   "metadata": {},
   "outputs": [
    {
     "data": {
      "text/html": [
       "<div>\n",
       "<style scoped>\n",
       "    .dataframe tbody tr th:only-of-type {\n",
       "        vertical-align: middle;\n",
       "    }\n",
       "\n",
       "    .dataframe tbody tr th {\n",
       "        vertical-align: top;\n",
       "    }\n",
       "\n",
       "    .dataframe thead th {\n",
       "        text-align: right;\n",
       "    }\n",
       "</style>\n",
       "<table border=\"1\" class=\"dataframe\">\n",
       "  <thead>\n",
       "    <tr style=\"text-align: right;\">\n",
       "      <th></th>\n",
       "      <th>harass</th>\n",
       "      <th>cyberstalk</th>\n",
       "      <th>flaming</th>\n",
       "      <th>outing</th>\n",
       "      <th>doxing</th>\n",
       "      <th>exclusion</th>\n",
       "      <th>impersonation</th>\n",
       "      <th>trolling</th>\n",
       "      <th>hateSpeech</th>\n",
       "      <th>threats</th>\n",
       "    </tr>\n",
       "  </thead>\n",
       "  <tbody>\n",
       "    <tr>\n",
       "      <th>harass</th>\n",
       "      <td>1.000000</td>\n",
       "      <td>0.013035</td>\n",
       "      <td>0.053413</td>\n",
       "      <td>0.004074</td>\n",
       "      <td>0.021069</td>\n",
       "      <td>0.013606</td>\n",
       "      <td>0.006677</td>\n",
       "      <td>0.047139</td>\n",
       "      <td>-0.007025</td>\n",
       "      <td>0.139926</td>\n",
       "    </tr>\n",
       "    <tr>\n",
       "      <th>cyberstalk</th>\n",
       "      <td>0.013035</td>\n",
       "      <td>1.000000</td>\n",
       "      <td>-0.001612</td>\n",
       "      <td>0.007056</td>\n",
       "      <td>0.003393</td>\n",
       "      <td>0.015785</td>\n",
       "      <td>0.012930</td>\n",
       "      <td>0.007651</td>\n",
       "      <td>0.017640</td>\n",
       "      <td>0.009109</td>\n",
       "    </tr>\n",
       "    <tr>\n",
       "      <th>flaming</th>\n",
       "      <td>0.053413</td>\n",
       "      <td>-0.001612</td>\n",
       "      <td>1.000000</td>\n",
       "      <td>-0.003824</td>\n",
       "      <td>0.001619</td>\n",
       "      <td>0.001850</td>\n",
       "      <td>0.007881</td>\n",
       "      <td>0.227355</td>\n",
       "      <td>0.083243</td>\n",
       "      <td>0.010917</td>\n",
       "    </tr>\n",
       "    <tr>\n",
       "      <th>outing</th>\n",
       "      <td>0.004074</td>\n",
       "      <td>0.007056</td>\n",
       "      <td>-0.003824</td>\n",
       "      <td>1.000000</td>\n",
       "      <td>0.493756</td>\n",
       "      <td>0.013865</td>\n",
       "      <td>0.009608</td>\n",
       "      <td>0.002093</td>\n",
       "      <td>-0.010520</td>\n",
       "      <td>0.010300</td>\n",
       "    </tr>\n",
       "    <tr>\n",
       "      <th>doxing</th>\n",
       "      <td>0.021069</td>\n",
       "      <td>0.003393</td>\n",
       "      <td>0.001619</td>\n",
       "      <td>0.493756</td>\n",
       "      <td>1.000000</td>\n",
       "      <td>-0.000325</td>\n",
       "      <td>0.052690</td>\n",
       "      <td>0.000548</td>\n",
       "      <td>-0.008701</td>\n",
       "      <td>0.010787</td>\n",
       "    </tr>\n",
       "    <tr>\n",
       "      <th>exclusion</th>\n",
       "      <td>0.013606</td>\n",
       "      <td>0.015785</td>\n",
       "      <td>0.001850</td>\n",
       "      <td>0.013865</td>\n",
       "      <td>-0.000325</td>\n",
       "      <td>1.000000</td>\n",
       "      <td>0.004156</td>\n",
       "      <td>0.004639</td>\n",
       "      <td>0.004370</td>\n",
       "      <td>0.014735</td>\n",
       "    </tr>\n",
       "    <tr>\n",
       "      <th>impersonation</th>\n",
       "      <td>0.006677</td>\n",
       "      <td>0.012930</td>\n",
       "      <td>0.007881</td>\n",
       "      <td>0.009608</td>\n",
       "      <td>0.052690</td>\n",
       "      <td>0.004156</td>\n",
       "      <td>1.000000</td>\n",
       "      <td>0.002566</td>\n",
       "      <td>0.001812</td>\n",
       "      <td>0.004081</td>\n",
       "    </tr>\n",
       "    <tr>\n",
       "      <th>trolling</th>\n",
       "      <td>0.047139</td>\n",
       "      <td>0.007651</td>\n",
       "      <td>0.227355</td>\n",
       "      <td>0.002093</td>\n",
       "      <td>0.000548</td>\n",
       "      <td>0.004639</td>\n",
       "      <td>0.002566</td>\n",
       "      <td>1.000000</td>\n",
       "      <td>0.054135</td>\n",
       "      <td>0.009613</td>\n",
       "    </tr>\n",
       "    <tr>\n",
       "      <th>hateSpeech</th>\n",
       "      <td>-0.007025</td>\n",
       "      <td>0.017640</td>\n",
       "      <td>0.083243</td>\n",
       "      <td>-0.010520</td>\n",
       "      <td>-0.008701</td>\n",
       "      <td>0.004370</td>\n",
       "      <td>0.001812</td>\n",
       "      <td>0.054135</td>\n",
       "      <td>1.000000</td>\n",
       "      <td>0.010033</td>\n",
       "    </tr>\n",
       "    <tr>\n",
       "      <th>threats</th>\n",
       "      <td>0.139926</td>\n",
       "      <td>0.009109</td>\n",
       "      <td>0.010917</td>\n",
       "      <td>0.010300</td>\n",
       "      <td>0.010787</td>\n",
       "      <td>0.014735</td>\n",
       "      <td>0.004081</td>\n",
       "      <td>0.009613</td>\n",
       "      <td>0.010033</td>\n",
       "      <td>1.000000</td>\n",
       "    </tr>\n",
       "  </tbody>\n",
       "</table>\n",
       "</div>"
      ],
      "text/plain": [
       "                 harass  cyberstalk   flaming    outing    doxing  exclusion  \\\n",
       "harass         1.000000    0.013035  0.053413  0.004074  0.021069   0.013606   \n",
       "cyberstalk     0.013035    1.000000 -0.001612  0.007056  0.003393   0.015785   \n",
       "flaming        0.053413   -0.001612  1.000000 -0.003824  0.001619   0.001850   \n",
       "outing         0.004074    0.007056 -0.003824  1.000000  0.493756   0.013865   \n",
       "doxing         0.021069    0.003393  0.001619  0.493756  1.000000  -0.000325   \n",
       "exclusion      0.013606    0.015785  0.001850  0.013865 -0.000325   1.000000   \n",
       "impersonation  0.006677    0.012930  0.007881  0.009608  0.052690   0.004156   \n",
       "trolling       0.047139    0.007651  0.227355  0.002093  0.000548   0.004639   \n",
       "hateSpeech    -0.007025    0.017640  0.083243 -0.010520 -0.008701   0.004370   \n",
       "threats        0.139926    0.009109  0.010917  0.010300  0.010787   0.014735   \n",
       "\n",
       "               impersonation  trolling  hateSpeech   threats  \n",
       "harass              0.006677  0.047139   -0.007025  0.139926  \n",
       "cyberstalk          0.012930  0.007651    0.017640  0.009109  \n",
       "flaming             0.007881  0.227355    0.083243  0.010917  \n",
       "outing              0.009608  0.002093   -0.010520  0.010300  \n",
       "doxing              0.052690  0.000548   -0.008701  0.010787  \n",
       "exclusion           0.004156  0.004639    0.004370  0.014735  \n",
       "impersonation       1.000000  0.002566    0.001812  0.004081  \n",
       "trolling            0.002566  1.000000    0.054135  0.009613  \n",
       "hateSpeech          0.001812  0.054135    1.000000  0.010033  \n",
       "threats             0.004081  0.009613    0.010033  1.000000  "
      ]
     },
     "execution_count": 23,
     "metadata": {},
     "output_type": "execute_result"
    }
   ],
   "source": [
    "df_tweets[['harass', 'cyberstalk', 'flaming', 'outing', 'doxing', 'exclusion', 'impersonation', 'trolling', 'hateSpeech', 'threats']].corr()"
   ]
  },
  {
   "cell_type": "markdown",
   "metadata": {},
   "source": [
    "### Covariance Matrix"
   ]
  },
  {
   "cell_type": "code",
   "execution_count": 24,
   "metadata": {},
   "outputs": [
    {
     "data": {
      "text/html": [
       "<div>\n",
       "<style scoped>\n",
       "    .dataframe tbody tr th:only-of-type {\n",
       "        vertical-align: middle;\n",
       "    }\n",
       "\n",
       "    .dataframe tbody tr th {\n",
       "        vertical-align: top;\n",
       "    }\n",
       "\n",
       "    .dataframe thead th {\n",
       "        text-align: right;\n",
       "    }\n",
       "</style>\n",
       "<table border=\"1\" class=\"dataframe\">\n",
       "  <thead>\n",
       "    <tr style=\"text-align: right;\">\n",
       "      <th></th>\n",
       "      <th>harass</th>\n",
       "      <th>cyberstalk</th>\n",
       "      <th>flaming</th>\n",
       "      <th>outing</th>\n",
       "      <th>doxing</th>\n",
       "      <th>exclusion</th>\n",
       "      <th>impersonation</th>\n",
       "      <th>trolling</th>\n",
       "      <th>hateSpeech</th>\n",
       "      <th>threats</th>\n",
       "    </tr>\n",
       "  </thead>\n",
       "  <tbody>\n",
       "    <tr>\n",
       "      <th>harass</th>\n",
       "      <td>0.048449</td>\n",
       "      <td>0.000531</td>\n",
       "      <td>0.001144</td>\n",
       "      <td>0.000082</td>\n",
       "      <td>0.000606</td>\n",
       "      <td>0.000183</td>\n",
       "      <td>0.000146</td>\n",
       "      <td>0.001286</td>\n",
       "      <td>-0.000478</td>\n",
       "      <td>0.004803</td>\n",
       "    </tr>\n",
       "    <tr>\n",
       "      <th>cyberstalk</th>\n",
       "      <td>0.000531</td>\n",
       "      <td>0.034295</td>\n",
       "      <td>-0.000029</td>\n",
       "      <td>0.000120</td>\n",
       "      <td>0.000082</td>\n",
       "      <td>0.000178</td>\n",
       "      <td>0.000237</td>\n",
       "      <td>0.000176</td>\n",
       "      <td>0.001010</td>\n",
       "      <td>0.000263</td>\n",
       "    </tr>\n",
       "    <tr>\n",
       "      <th>flaming</th>\n",
       "      <td>0.001144</td>\n",
       "      <td>-0.000029</td>\n",
       "      <td>0.009467</td>\n",
       "      <td>-0.000034</td>\n",
       "      <td>0.000021</td>\n",
       "      <td>0.000011</td>\n",
       "      <td>0.000076</td>\n",
       "      <td>0.002742</td>\n",
       "      <td>0.002504</td>\n",
       "      <td>0.000166</td>\n",
       "    </tr>\n",
       "    <tr>\n",
       "      <th>outing</th>\n",
       "      <td>0.000082</td>\n",
       "      <td>0.000120</td>\n",
       "      <td>-0.000034</td>\n",
       "      <td>0.008368</td>\n",
       "      <td>0.005899</td>\n",
       "      <td>0.000077</td>\n",
       "      <td>0.000087</td>\n",
       "      <td>0.000024</td>\n",
       "      <td>-0.000298</td>\n",
       "      <td>0.000147</td>\n",
       "    </tr>\n",
       "    <tr>\n",
       "      <th>doxing</th>\n",
       "      <td>0.000606</td>\n",
       "      <td>0.000082</td>\n",
       "      <td>0.000021</td>\n",
       "      <td>0.005899</td>\n",
       "      <td>0.017059</td>\n",
       "      <td>-0.000003</td>\n",
       "      <td>0.000682</td>\n",
       "      <td>0.000009</td>\n",
       "      <td>-0.000351</td>\n",
       "      <td>0.000220</td>\n",
       "    </tr>\n",
       "    <tr>\n",
       "      <th>exclusion</th>\n",
       "      <td>0.000183</td>\n",
       "      <td>0.000178</td>\n",
       "      <td>0.000011</td>\n",
       "      <td>0.000077</td>\n",
       "      <td>-0.000003</td>\n",
       "      <td>0.003716</td>\n",
       "      <td>0.000025</td>\n",
       "      <td>0.000035</td>\n",
       "      <td>0.000082</td>\n",
       "      <td>0.000140</td>\n",
       "    </tr>\n",
       "    <tr>\n",
       "      <th>impersonation</th>\n",
       "      <td>0.000146</td>\n",
       "      <td>0.000237</td>\n",
       "      <td>0.000076</td>\n",
       "      <td>0.000087</td>\n",
       "      <td>0.000682</td>\n",
       "      <td>0.000025</td>\n",
       "      <td>0.009833</td>\n",
       "      <td>0.000032</td>\n",
       "      <td>0.000056</td>\n",
       "      <td>0.000063</td>\n",
       "    </tr>\n",
       "    <tr>\n",
       "      <th>trolling</th>\n",
       "      <td>0.001286</td>\n",
       "      <td>0.000176</td>\n",
       "      <td>0.002742</td>\n",
       "      <td>0.000024</td>\n",
       "      <td>0.000009</td>\n",
       "      <td>0.000035</td>\n",
       "      <td>0.000032</td>\n",
       "      <td>0.015361</td>\n",
       "      <td>0.002075</td>\n",
       "      <td>0.000186</td>\n",
       "    </tr>\n",
       "    <tr>\n",
       "      <th>hateSpeech</th>\n",
       "      <td>-0.000478</td>\n",
       "      <td>0.001010</td>\n",
       "      <td>0.002504</td>\n",
       "      <td>-0.000298</td>\n",
       "      <td>-0.000351</td>\n",
       "      <td>0.000082</td>\n",
       "      <td>0.000056</td>\n",
       "      <td>0.002075</td>\n",
       "      <td>0.095617</td>\n",
       "      <td>0.000484</td>\n",
       "    </tr>\n",
       "    <tr>\n",
       "      <th>threats</th>\n",
       "      <td>0.004803</td>\n",
       "      <td>0.000263</td>\n",
       "      <td>0.000166</td>\n",
       "      <td>0.000147</td>\n",
       "      <td>0.000220</td>\n",
       "      <td>0.000140</td>\n",
       "      <td>0.000063</td>\n",
       "      <td>0.000186</td>\n",
       "      <td>0.000484</td>\n",
       "      <td>0.024323</td>\n",
       "    </tr>\n",
       "  </tbody>\n",
       "</table>\n",
       "</div>"
      ],
      "text/plain": [
       "                 harass  cyberstalk   flaming    outing    doxing  exclusion  \\\n",
       "harass         0.048449    0.000531  0.001144  0.000082  0.000606   0.000183   \n",
       "cyberstalk     0.000531    0.034295 -0.000029  0.000120  0.000082   0.000178   \n",
       "flaming        0.001144   -0.000029  0.009467 -0.000034  0.000021   0.000011   \n",
       "outing         0.000082    0.000120 -0.000034  0.008368  0.005899   0.000077   \n",
       "doxing         0.000606    0.000082  0.000021  0.005899  0.017059  -0.000003   \n",
       "exclusion      0.000183    0.000178  0.000011  0.000077 -0.000003   0.003716   \n",
       "impersonation  0.000146    0.000237  0.000076  0.000087  0.000682   0.000025   \n",
       "trolling       0.001286    0.000176  0.002742  0.000024  0.000009   0.000035   \n",
       "hateSpeech    -0.000478    0.001010  0.002504 -0.000298 -0.000351   0.000082   \n",
       "threats        0.004803    0.000263  0.000166  0.000147  0.000220   0.000140   \n",
       "\n",
       "               impersonation  trolling  hateSpeech   threats  \n",
       "harass              0.000146  0.001286   -0.000478  0.004803  \n",
       "cyberstalk          0.000237  0.000176    0.001010  0.000263  \n",
       "flaming             0.000076  0.002742    0.002504  0.000166  \n",
       "outing              0.000087  0.000024   -0.000298  0.000147  \n",
       "doxing              0.000682  0.000009   -0.000351  0.000220  \n",
       "exclusion           0.000025  0.000035    0.000082  0.000140  \n",
       "impersonation       0.009833  0.000032    0.000056  0.000063  \n",
       "trolling            0.000032  0.015361    0.002075  0.000186  \n",
       "hateSpeech          0.000056  0.002075    0.095617  0.000484  \n",
       "threats             0.000063  0.000186    0.000484  0.024323  "
      ]
     },
     "execution_count": 24,
     "metadata": {},
     "output_type": "execute_result"
    }
   ],
   "source": [
    "df_tweets[['harass', 'cyberstalk', 'flaming', 'outing', 'doxing', 'exclusion', 'impersonation', 'trolling', 'hateSpeech', 'threats']].cov()"
   ]
  },
  {
   "attachments": {},
   "cell_type": "markdown",
   "metadata": {},
   "source": [
    "## Graphical Univariate EDA\n",
    "Most Graphics like Line, Histograms, Density Plots, QQ-Plots or Barcharts don't make sense, as the values are mostly 0 or 1."
   ]
  },
  {
   "cell_type": "markdown",
   "metadata": {},
   "source": [
    "### Boxplot (seaborn)\n",
    "Boxplot doesn't really make sense, as the values are only 0 and 1."
   ]
  },
  {
   "cell_type": "code",
   "execution_count": 25,
   "metadata": {},
   "outputs": [
    {
     "data": {
      "text/plain": [
       "<Axes: xlabel='impersonation'>"
      ]
     },
     "execution_count": 25,
     "metadata": {},
     "output_type": "execute_result"
    },
    {
     "data": {
      "image/png": "[encoded data removed]",
      "text/plain": [
       "<Figure size 800x120 with 1 Axes>"
      ]
     },
     "metadata": {},
     "output_type": "display_data"
    }
   ],
   "source": [
    "plt.figure(figsize=(8,1.2))\n",
    "plt.ticklabel_format(style='plain')\n",
    "sns.boxplot(x=df_tweets['impersonation'], color=\"lightblue\")"
   ]
  },
  {
   "cell_type": "markdown",
   "metadata": {},
   "source": [
    "### Piechart (matplotlib)"
   ]
  },
  {
   "cell_type": "code",
   "execution_count": 26,
   "metadata": {},
   "outputs": [
    {
     "data": {
      "image/png": "[encoded data removed]",
      "text/plain": [
       "<Figure size 500x500 with 1 Axes>"
      ]
     },
     "metadata": {},
     "output_type": "display_data"
    }
   ],
   "source": [
    "# Group data by rooms (only the 8 most frequently occurencies by rooms)\n",
    "df_bar = df_tweets.cyberbullying_type.value_counts().nlargest(8).sort_values(ascending=True)\n",
    "\n",
    "# Simple bar chart\n",
    "sizes = list(df_bar.values)\n",
    "labels = list(df_bar.index.values)\n",
    "\n",
    "fig1, ax1 = plt.subplots(figsize=(5,5))\n",
    "ax1.pie(sizes, \n",
    "        labels=labels, \n",
    "        autopct='%1.1f%%',\n",
    "        shadow=False, \n",
    "        startangle=90)\n",
    "ax1.axis('equal')  # ensures that pie is drawn as a circle.\n",
    "\n",
    "plt.show()"
   ]
  },
  {
   "attachments": {},
   "cell_type": "markdown",
   "metadata": {},
   "source": [
    "## Graphical Multivariate EDA\n",
    "Most Graphics like Scatterplots, Regressionlines, Matrices, Hexagonal binning plots or Correlation heatmaps don't make sense, as the values are mostly 0 or 1."
   ]
  },
  {
   "attachments": {},
   "cell_type": "markdown",
   "metadata": {},
   "source": [
    "### Example Correlation heatmap:"
   ]
  },
  {
   "cell_type": "code",
   "execution_count": 27,
   "metadata": {},
   "outputs": [
    {
     "data": {
      "text/plain": [
       "<Axes: >"
      ]
     },
     "execution_count": 27,
     "metadata": {},
     "output_type": "execute_result"
    },
    {
     "data": {
      "image/png": "[encoded data removed]",
      "text/plain": [
       "<Figure size 700x400 with 2 Axes>"
      ]
     },
     "metadata": {},
     "output_type": "display_data"
    }
   ],
   "source": [
    "# Set font size for plot\n",
    "sns.set(font_scale=0.6)\n",
    "\n",
    "# Create correlation matrix as the basis for the heatmap\n",
    "plt.figure(figsize=(7,4))\n",
    "corr = df_tweets[['harass', 'cyberstalk', 'flaming', 'outing', 'doxing', 'exclusion', 'impersonation', 'trolling', 'hateSpeech', 'threats']].corr().round(2)\n",
    "\n",
    "# Plot heatmap\n",
    "sns.heatmap(corr, \n",
    "            cmap=\"BrBG\", \n",
    "            annot=True)"
   ]
  }
 ],
 "metadata": {
  "kernelspec": {
   "display_name": "pga",
   "language": "python",
   "name": "python3"
  },
  "language_info": {
   "codemirror_mode": {
    "name": "ipython",
    "version": 3
   },
   "file_extension": ".py",
   "mimetype": "text/x-python",
   "name": "python",
   "nbconvert_exporter": "python",
   "pygments_lexer": "ipython3",
   "version": "3.11.2"
  }
 },
 "nbformat": 4,
 "nbformat_minor": 2
}
