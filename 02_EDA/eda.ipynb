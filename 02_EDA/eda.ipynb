{
 "cells": [
  {
   "cell_type": "code",
   "execution_count": 126,
   "metadata": {},
   "outputs": [],
   "source": [
    "# Load the libraries\n",
    "import pandas as pd\n",
    "import numpy as np\n",
    "import matplotlib.pyplot as plt\n",
    "import seaborn as sns\n",
    "%matplotlib inline"
   ]
  },
  {
   "cell_type": "code",
   "execution_count": 127,
   "metadata": {},
   "outputs": [
    {
     "name": "stdout",
     "output_type": "stream",
     "text": [
      "(47692, 12)\n"
     ]
    },
    {
     "data": {
      "text/plain": [
       "<bound method NDFrame.head of                                               tweet_text cyberbullying_type  \\\n",
       "0      IN OTHER WORDS #KATANDANDRE, YOUR FOOD WAS CRA...  not_cyberbullying   \n",
       "1      WHY IS #AUSSIETV SO WHITE? #MKR #THEBLOCK #IMA...  not_cyberbullying   \n",
       "2      @XOCHITLSUCKKKS A CLASSY WHORE? OR MORE RED VE...  not_cyberbullying   \n",
       "3      @JASON_GIO MEH. :P  THANKS FOR THE HEADS UP, B...  not_cyberbullying   \n",
       "4      @RUDHOEENGLISH THIS IS AN ISIS ACCOUNT PRETEND...  not_cyberbullying   \n",
       "...                                                  ...                ...   \n",
       "47687  BLACK PPL AREN'T EXPECTED TO DO ANYTHING, DEPE...          ethnicity   \n",
       "47688  TURNER DID NOT WITHHOLD HIS DISAPPOINTMENT. TU...          ethnicity   \n",
       "47689  I SWEAR TO GOD. THIS DUMB NIGGER BITCH. I HAVE...          ethnicity   \n",
       "47690  YEA FUCK YOU RT @THEREALEXEL: IF YOURE A NIGGE...          ethnicity   \n",
       "47691  BRO. U GOTTA CHILL RT @CHILLSHRAMMY: DOG FUCK ...          ethnicity   \n",
       "\n",
       "       harass  cyberstalk  flaming  outing  doxing  exclusion  impersonation  \\\n",
       "0         0.0         0.0      0.0     0.0     0.0        0.0            0.0   \n",
       "1         0.0         0.0      0.0     0.0     0.0        0.0            0.0   \n",
       "2         0.0         0.0      0.0     0.0     0.0        0.0            0.0   \n",
       "3         0.0         0.0      0.0     0.0     0.0        0.0            0.0   \n",
       "4         0.0         0.0      0.0     0.0     0.0        0.0            1.0   \n",
       "...       ...         ...      ...     ...     ...        ...            ...   \n",
       "47687     0.0         0.0      0.0     0.0     0.0        0.0            0.0   \n",
       "47688     0.0         0.0      0.0     0.0     0.0        0.0            0.0   \n",
       "47689     0.0         0.0      0.0     0.0     0.0        0.0            0.0   \n",
       "47690     0.0         1.0      0.0     0.0     0.0        0.0            0.0   \n",
       "47691     0.0         0.0      0.0     0.0     0.0        0.0            0.0   \n",
       "\n",
       "       trolling  hateSpeech  threats  \n",
       "0           0.0         0.0      0.0  \n",
       "1           0.0         0.0      0.0  \n",
       "2           0.0         0.0      0.0  \n",
       "3           0.0         0.0      0.0  \n",
       "4           0.0         0.0      0.0  \n",
       "...         ...         ...      ...  \n",
       "47687       0.0         0.0      0.0  \n",
       "47688       0.0         0.0      0.0  \n",
       "47689       0.0         0.0      0.0  \n",
       "47690       0.0         0.0      0.0  \n",
       "47691       0.0         0.0      0.0  \n",
       "\n",
       "[47692 rows x 12 columns]>"
      ]
     },
     "execution_count": 127,
     "metadata": {},
     "output_type": "execute_result"
    }
   ],
   "source": [
    "# Read file into dataframe\n",
    "df_tweets = pd.read_csv('../06_Feature Selection & Engineering/dataset_tweets_featured.csv', sep=',', encoding='utf-8')\n",
    "print(df_tweets.shape)\n",
    "df_tweets.head"
   ]
  },
  {
   "cell_type": "markdown",
   "metadata": {},
   "source": [
    "Drop the Column 'tweet_text'"
   ]
  },
  {
   "cell_type": "code",
   "execution_count": 128,
   "metadata": {},
   "outputs": [],
   "source": [
    "df_tweets = df_tweets[['cyberbullying_type', 'harass', 'cyberstalk', 'flaming', 'outing', 'doxing', 'exclusion', 'impersonation', 'trolling', 'hateSpeech', 'threats']]"
   ]
  },
  {
   "cell_type": "code",
   "execution_count": 130,
   "metadata": {},
   "outputs": [
    {
     "data": {
      "text/plain": [
       "array(['not_cyberbullying', 'gender', 'religion', 'other_cyberbullying',\n",
       "       'age', 'ethnicity'], dtype=object)"
      ]
     },
     "execution_count": 130,
     "metadata": {},
     "output_type": "execute_result"
    }
   ],
   "source": [
    "df_tweets['cyberbullying_type'].unique()"
   ]
  },
  {
   "cell_type": "markdown",
   "metadata": {},
   "source": [
    "# Data Cleaning and Preparation\n",
    "This step is in the File Folder \"04_Data Cleansing\"."
   ]
  },
  {
   "cell_type": "markdown",
   "metadata": {},
   "source": [
    "# Declaration of the data"
   ]
  },
  {
   "cell_type": "code",
   "execution_count": 131,
   "metadata": {},
   "outputs": [
    {
     "data": {
      "text/plain": [
       "(47692, 11)"
      ]
     },
     "execution_count": 131,
     "metadata": {},
     "output_type": "execute_result"
    }
   ],
   "source": [
    "df_tweets.shape"
   ]
  },
  {
   "cell_type": "code",
   "execution_count": 132,
   "metadata": {},
   "outputs": [
    {
     "name": "stdout",
     "output_type": "stream",
     "text": [
      "<class 'pandas.core.frame.DataFrame'>\n",
      "RangeIndex: 47692 entries, 0 to 47691\n",
      "Data columns (total 11 columns):\n",
      " #   Column              Non-Null Count  Dtype  \n",
      "---  ------              --------------  -----  \n",
      " 0   cyberbullying_type  47692 non-null  object \n",
      " 1   harass              47692 non-null  float64\n",
      " 2   cyberstalk          47692 non-null  float64\n",
      " 3   flaming             47692 non-null  float64\n",
      " 4   outing              47692 non-null  float64\n",
      " 5   doxing              47692 non-null  float64\n",
      " 6   exclusion           47692 non-null  float64\n",
      " 7   impersonation       47692 non-null  float64\n",
      " 8   trolling            47692 non-null  float64\n",
      " 9   hateSpeech          47692 non-null  float64\n",
      " 10  threats             47692 non-null  float64\n",
      "dtypes: float64(10), object(1)\n",
      "memory usage: 4.0+ MB\n"
     ]
    }
   ],
   "source": [
    "df_tweets.info()"
   ]
  },
  {
   "cell_type": "markdown",
   "metadata": {},
   "source": [
    "# Non Graphical Univariate EDA"
   ]
  },
  {
   "cell_type": "markdown",
   "metadata": {},
   "source": [
    "### Summary statistics of numeric variables"
   ]
  },
  {
   "cell_type": "code",
   "execution_count": 133,
   "metadata": {},
   "outputs": [
    {
     "data": {
      "text/html": [
       "<div>\n",
       "<style scoped>\n",
       "    .dataframe tbody tr th:only-of-type {\n",
       "        vertical-align: middle;\n",
       "    }\n",
       "\n",
       "    .dataframe tbody tr th {\n",
       "        vertical-align: top;\n",
       "    }\n",
       "\n",
       "    .dataframe thead th {\n",
       "        text-align: right;\n",
       "    }\n",
       "</style>\n",
       "<table border=\"1\" class=\"dataframe\">\n",
       "  <thead>\n",
       "    <tr style=\"text-align: right;\">\n",
       "      <th></th>\n",
       "      <th>harass</th>\n",
       "      <th>cyberstalk</th>\n",
       "      <th>flaming</th>\n",
       "      <th>outing</th>\n",
       "      <th>doxing</th>\n",
       "      <th>exclusion</th>\n",
       "      <th>impersonation</th>\n",
       "      <th>trolling</th>\n",
       "      <th>hateSpeech</th>\n",
       "      <th>threats</th>\n",
       "    </tr>\n",
       "  </thead>\n",
       "  <tbody>\n",
       "    <tr>\n",
       "      <th>count</th>\n",
       "      <td>47692.000000</td>\n",
       "      <td>47692.000000</td>\n",
       "      <td>47692.000000</td>\n",
       "      <td>47692.000000</td>\n",
       "      <td>47692.000000</td>\n",
       "      <td>47692.000000</td>\n",
       "      <td>47692.000000</td>\n",
       "      <td>47692.000000</td>\n",
       "      <td>47692.000000</td>\n",
       "      <td>47692.000000</td>\n",
       "    </tr>\n",
       "    <tr>\n",
       "      <th>mean</th>\n",
       "      <td>0.061247</td>\n",
       "      <td>0.036736</td>\n",
       "      <td>0.011113</td>\n",
       "      <td>0.008765</td>\n",
       "      <td>0.017445</td>\n",
       "      <td>0.004298</td>\n",
       "      <td>0.011050</td>\n",
       "      <td>0.015516</td>\n",
       "      <td>0.102344</td>\n",
       "      <td>0.025644</td>\n",
       "    </tr>\n",
       "    <tr>\n",
       "      <th>std</th>\n",
       "      <td>0.239786</td>\n",
       "      <td>0.188114</td>\n",
       "      <td>0.104832</td>\n",
       "      <td>0.093209</td>\n",
       "      <td>0.130925</td>\n",
       "      <td>0.065422</td>\n",
       "      <td>0.104538</td>\n",
       "      <td>0.123595</td>\n",
       "      <td>0.303104</td>\n",
       "      <td>0.158072</td>\n",
       "    </tr>\n",
       "    <tr>\n",
       "      <th>min</th>\n",
       "      <td>0.000000</td>\n",
       "      <td>0.000000</td>\n",
       "      <td>0.000000</td>\n",
       "      <td>0.000000</td>\n",
       "      <td>0.000000</td>\n",
       "      <td>0.000000</td>\n",
       "      <td>0.000000</td>\n",
       "      <td>0.000000</td>\n",
       "      <td>0.000000</td>\n",
       "      <td>0.000000</td>\n",
       "    </tr>\n",
       "    <tr>\n",
       "      <th>25%</th>\n",
       "      <td>0.000000</td>\n",
       "      <td>0.000000</td>\n",
       "      <td>0.000000</td>\n",
       "      <td>0.000000</td>\n",
       "      <td>0.000000</td>\n",
       "      <td>0.000000</td>\n",
       "      <td>0.000000</td>\n",
       "      <td>0.000000</td>\n",
       "      <td>0.000000</td>\n",
       "      <td>0.000000</td>\n",
       "    </tr>\n",
       "    <tr>\n",
       "      <th>50%</th>\n",
       "      <td>0.000000</td>\n",
       "      <td>0.000000</td>\n",
       "      <td>0.000000</td>\n",
       "      <td>0.000000</td>\n",
       "      <td>0.000000</td>\n",
       "      <td>0.000000</td>\n",
       "      <td>0.000000</td>\n",
       "      <td>0.000000</td>\n",
       "      <td>0.000000</td>\n",
       "      <td>0.000000</td>\n",
       "    </tr>\n",
       "    <tr>\n",
       "      <th>75%</th>\n",
       "      <td>0.000000</td>\n",
       "      <td>0.000000</td>\n",
       "      <td>0.000000</td>\n",
       "      <td>0.000000</td>\n",
       "      <td>0.000000</td>\n",
       "      <td>0.000000</td>\n",
       "      <td>0.000000</td>\n",
       "      <td>0.000000</td>\n",
       "      <td>0.000000</td>\n",
       "      <td>0.000000</td>\n",
       "    </tr>\n",
       "    <tr>\n",
       "      <th>max</th>\n",
       "      <td>1.000000</td>\n",
       "      <td>1.000000</td>\n",
       "      <td>1.000000</td>\n",
       "      <td>1.000000</td>\n",
       "      <td>1.000000</td>\n",
       "      <td>1.000000</td>\n",
       "      <td>1.000000</td>\n",
       "      <td>1.000000</td>\n",
       "      <td>1.000000</td>\n",
       "      <td>1.000000</td>\n",
       "    </tr>\n",
       "  </tbody>\n",
       "</table>\n",
       "</div>"
      ],
      "text/plain": [
       "             harass    cyberstalk       flaming        outing        doxing  \\\n",
       "count  47692.000000  47692.000000  47692.000000  47692.000000  47692.000000   \n",
       "mean       0.061247      0.036736      0.011113      0.008765      0.017445   \n",
       "std        0.239786      0.188114      0.104832      0.093209      0.130925   \n",
       "min        0.000000      0.000000      0.000000      0.000000      0.000000   \n",
       "25%        0.000000      0.000000      0.000000      0.000000      0.000000   \n",
       "50%        0.000000      0.000000      0.000000      0.000000      0.000000   \n",
       "75%        0.000000      0.000000      0.000000      0.000000      0.000000   \n",
       "max        1.000000      1.000000      1.000000      1.000000      1.000000   \n",
       "\n",
       "          exclusion  impersonation      trolling    hateSpeech       threats  \n",
       "count  47692.000000   47692.000000  47692.000000  47692.000000  47692.000000  \n",
       "mean       0.004298       0.011050      0.015516      0.102344      0.025644  \n",
       "std        0.065422       0.104538      0.123595      0.303104      0.158072  \n",
       "min        0.000000       0.000000      0.000000      0.000000      0.000000  \n",
       "25%        0.000000       0.000000      0.000000      0.000000      0.000000  \n",
       "50%        0.000000       0.000000      0.000000      0.000000      0.000000  \n",
       "75%        0.000000       0.000000      0.000000      0.000000      0.000000  \n",
       "max        1.000000       1.000000      1.000000      1.000000      1.000000  "
      ]
     },
     "execution_count": 133,
     "metadata": {},
     "output_type": "execute_result"
    }
   ],
   "source": [
    "df_tweets[['harass', 'cyberstalk', 'flaming', 'outing', 'doxing', 'exclusion', 'impersonation', 'trolling', 'hateSpeech', 'threats']].describe()"
   ]
  },
  {
   "cell_type": "markdown",
   "metadata": {},
   "source": [
    "### Quantiles\n",
    "As the colums only have the value 0 or 1, the Quantiles are set accordingly."
   ]
  },
  {
   "cell_type": "code",
   "execution_count": 134,
   "metadata": {},
   "outputs": [
    {
     "data": {
      "text/html": [
       "<div>\n",
       "<style scoped>\n",
       "    .dataframe tbody tr th:only-of-type {\n",
       "        vertical-align: middle;\n",
       "    }\n",
       "\n",
       "    .dataframe tbody tr th {\n",
       "        vertical-align: top;\n",
       "    }\n",
       "\n",
       "    .dataframe thead th {\n",
       "        text-align: right;\n",
       "    }\n",
       "</style>\n",
       "<table border=\"1\" class=\"dataframe\">\n",
       "  <thead>\n",
       "    <tr style=\"text-align: right;\">\n",
       "      <th></th>\n",
       "      <th>harass</th>\n",
       "      <th>cyberstalk</th>\n",
       "      <th>flaming</th>\n",
       "      <th>outing</th>\n",
       "      <th>doxing</th>\n",
       "      <th>exclusion</th>\n",
       "      <th>impersonation</th>\n",
       "      <th>trolling</th>\n",
       "      <th>hateSpeech</th>\n",
       "      <th>threats</th>\n",
       "    </tr>\n",
       "  </thead>\n",
       "  <tbody>\n",
       "    <tr>\n",
       "      <th>0.05</th>\n",
       "      <td>0.0</td>\n",
       "      <td>0.0</td>\n",
       "      <td>0.0</td>\n",
       "      <td>0.0</td>\n",
       "      <td>0.0</td>\n",
       "      <td>0.0</td>\n",
       "      <td>0.0</td>\n",
       "      <td>0.0</td>\n",
       "      <td>0.0</td>\n",
       "      <td>0.0</td>\n",
       "    </tr>\n",
       "    <tr>\n",
       "      <th>0.10</th>\n",
       "      <td>0.0</td>\n",
       "      <td>0.0</td>\n",
       "      <td>0.0</td>\n",
       "      <td>0.0</td>\n",
       "      <td>0.0</td>\n",
       "      <td>0.0</td>\n",
       "      <td>0.0</td>\n",
       "      <td>0.0</td>\n",
       "      <td>0.0</td>\n",
       "      <td>0.0</td>\n",
       "    </tr>\n",
       "    <tr>\n",
       "      <th>0.25</th>\n",
       "      <td>0.0</td>\n",
       "      <td>0.0</td>\n",
       "      <td>0.0</td>\n",
       "      <td>0.0</td>\n",
       "      <td>0.0</td>\n",
       "      <td>0.0</td>\n",
       "      <td>0.0</td>\n",
       "      <td>0.0</td>\n",
       "      <td>0.0</td>\n",
       "      <td>0.0</td>\n",
       "    </tr>\n",
       "    <tr>\n",
       "      <th>0.50</th>\n",
       "      <td>0.0</td>\n",
       "      <td>0.0</td>\n",
       "      <td>0.0</td>\n",
       "      <td>0.0</td>\n",
       "      <td>0.0</td>\n",
       "      <td>0.0</td>\n",
       "      <td>0.0</td>\n",
       "      <td>0.0</td>\n",
       "      <td>0.0</td>\n",
       "      <td>0.0</td>\n",
       "    </tr>\n",
       "    <tr>\n",
       "      <th>0.75</th>\n",
       "      <td>0.0</td>\n",
       "      <td>0.0</td>\n",
       "      <td>0.0</td>\n",
       "      <td>0.0</td>\n",
       "      <td>0.0</td>\n",
       "      <td>0.0</td>\n",
       "      <td>0.0</td>\n",
       "      <td>0.0</td>\n",
       "      <td>0.0</td>\n",
       "      <td>0.0</td>\n",
       "    </tr>\n",
       "    <tr>\n",
       "      <th>0.90</th>\n",
       "      <td>0.0</td>\n",
       "      <td>0.0</td>\n",
       "      <td>0.0</td>\n",
       "      <td>0.0</td>\n",
       "      <td>0.0</td>\n",
       "      <td>0.0</td>\n",
       "      <td>0.0</td>\n",
       "      <td>0.0</td>\n",
       "      <td>1.0</td>\n",
       "      <td>0.0</td>\n",
       "    </tr>\n",
       "    <tr>\n",
       "      <th>0.95</th>\n",
       "      <td>1.0</td>\n",
       "      <td>0.0</td>\n",
       "      <td>0.0</td>\n",
       "      <td>0.0</td>\n",
       "      <td>0.0</td>\n",
       "      <td>0.0</td>\n",
       "      <td>0.0</td>\n",
       "      <td>0.0</td>\n",
       "      <td>1.0</td>\n",
       "      <td>0.0</td>\n",
       "    </tr>\n",
       "  </tbody>\n",
       "</table>\n",
       "</div>"
      ],
      "text/plain": [
       "      harass  cyberstalk  flaming  outing  doxing  exclusion  impersonation  \\\n",
       "0.05     0.0         0.0      0.0     0.0     0.0        0.0            0.0   \n",
       "0.10     0.0         0.0      0.0     0.0     0.0        0.0            0.0   \n",
       "0.25     0.0         0.0      0.0     0.0     0.0        0.0            0.0   \n",
       "0.50     0.0         0.0      0.0     0.0     0.0        0.0            0.0   \n",
       "0.75     0.0         0.0      0.0     0.0     0.0        0.0            0.0   \n",
       "0.90     0.0         0.0      0.0     0.0     0.0        0.0            0.0   \n",
       "0.95     1.0         0.0      0.0     0.0     0.0        0.0            0.0   \n",
       "\n",
       "      trolling  hateSpeech  threats  \n",
       "0.05       0.0         0.0      0.0  \n",
       "0.10       0.0         0.0      0.0  \n",
       "0.25       0.0         0.0      0.0  \n",
       "0.50       0.0         0.0      0.0  \n",
       "0.75       0.0         0.0      0.0  \n",
       "0.90       0.0         1.0      0.0  \n",
       "0.95       0.0         1.0      0.0  "
      ]
     },
     "execution_count": 134,
     "metadata": {},
     "output_type": "execute_result"
    }
   ],
   "source": [
    "df_tweets[['harass', 'cyberstalk', 'flaming', 'outing', 'doxing', 'exclusion', 'impersonation', 'trolling', 'hateSpeech', 'threats']].quantile(q=[0.05, 0.10, 0.25, 0.50, 0.75, 0.90, 0.95], axis=0, numeric_only=True).round(2)"
   ]
  },
  {
   "cell_type": "markdown",
   "metadata": {},
   "source": [
    "### Measures of dispersion"
   ]
  },
  {
   "cell_type": "code",
   "execution_count": 135,
   "metadata": {},
   "outputs": [
    {
     "data": {
      "text/plain": [
       "harass           0.057497\n",
       "cyberstalk       0.035387\n",
       "flaming          0.010990\n",
       "outing           0.008688\n",
       "doxing           0.017141\n",
       "exclusion        0.004280\n",
       "impersonation    0.010928\n",
       "trolling         0.015276\n",
       "hateSpeech       0.091872\n",
       "threats          0.024987\n",
       "dtype: float64"
      ]
     },
     "execution_count": 135,
     "metadata": {},
     "output_type": "execute_result"
    }
   ],
   "source": [
    "df_tweets[['harass', 'cyberstalk', 'flaming', 'outing', 'doxing', 'exclusion', 'impersonation', 'trolling', 'hateSpeech', 'threats']].var()"
   ]
  },
  {
   "cell_type": "code",
   "execution_count": 136,
   "metadata": {},
   "outputs": [
    {
     "data": {
      "text/plain": [
       "harass           0.239786\n",
       "cyberstalk       0.188114\n",
       "flaming          0.104832\n",
       "outing           0.093209\n",
       "doxing           0.130925\n",
       "exclusion        0.065422\n",
       "impersonation    0.104538\n",
       "trolling         0.123595\n",
       "hateSpeech       0.303104\n",
       "threats          0.158072\n",
       "dtype: float64"
      ]
     },
     "execution_count": 136,
     "metadata": {},
     "output_type": "execute_result"
    }
   ],
   "source": [
    "df_tweets[['harass', 'cyberstalk', 'flaming', 'outing', 'doxing', 'exclusion', 'impersonation', 'trolling', 'hateSpeech', 'threats']].std()"
   ]
  },
  {
   "cell_type": "markdown",
   "metadata": {},
   "source": [
    "### Skewness"
   ]
  },
  {
   "cell_type": "code",
   "execution_count": 137,
   "metadata": {},
   "outputs": [
    {
     "data": {
      "text/plain": [
       "harass            3.659695\n",
       "cyberstalk        4.925558\n",
       "flaming           9.327466\n",
       "outing           10.540945\n",
       "doxing            7.371790\n",
       "exclusion        15.154625\n",
       "impersonation     9.354883\n",
       "trolling          7.840171\n",
       "hateSpeech        2.624004\n",
       "threats           6.002041\n",
       "dtype: float64"
      ]
     },
     "execution_count": 137,
     "metadata": {},
     "output_type": "execute_result"
    }
   ],
   "source": [
    "df_tweets[['harass', 'cyberstalk', 'flaming', 'outing', 'doxing', 'exclusion', 'impersonation', 'trolling', 'hateSpeech', 'threats']].skew()"
   ]
  },
  {
   "cell_type": "markdown",
   "metadata": {},
   "source": [
    "The skewness of the values are <0, which means they're right-skewed."
   ]
  },
  {
   "cell_type": "markdown",
   "metadata": {},
   "source": [
    "### Kurtosis"
   ]
  },
  {
   "cell_type": "code",
   "execution_count": 138,
   "metadata": {},
   "outputs": [
    {
     "data": {
      "text/plain": [
       "harass            11.393849\n",
       "cyberstalk        22.262058\n",
       "flaming           85.005181\n",
       "outing           109.116101\n",
       "doxing            52.345484\n",
       "exclusion        227.672214\n",
       "impersonation     85.517418\n",
       "trolling          59.470770\n",
       "hateSpeech         4.885599\n",
       "threats           34.025923\n",
       "dtype: float64"
      ]
     },
     "execution_count": 138,
     "metadata": {},
     "output_type": "execute_result"
    }
   ],
   "source": [
    "df_tweets[['harass', 'cyberstalk', 'flaming', 'outing', 'doxing', 'exclusion', 'impersonation', 'trolling', 'hateSpeech', 'threats']].kurtosis()"
   ]
  },
  {
   "cell_type": "markdown",
   "metadata": {},
   "source": [
    "The kurtosis values are all pretty high, which means they have a high peak."
   ]
  },
  {
   "cell_type": "markdown",
   "metadata": {},
   "source": [
    "### Extreme values\n",
    "Because the fields only have the values 0 or 1, there are no extreme values."
   ]
  },
  {
   "cell_type": "code",
   "execution_count": 139,
   "metadata": {},
   "outputs": [
    {
     "name": "stdout",
     "output_type": "stream",
     "text": [
      "Unique values in 'cyberbullying_type' column:['not_cyberbullying' 'gender' 'religion' 'other_cyberbullying' 'age'\n",
      " 'ethnicity']\n",
      "\n",
      "Unique values in 'harass' column:[0. 1.]\n",
      "\n",
      "Unique values in 'cyberstalk' column:[0. 1.]\n",
      "\n",
      "Unique values in 'flaming' column:[0. 1.]\n",
      "\n",
      "Unique values in 'outing' column:[0. 1.]\n",
      "\n",
      "Unique values in 'doxing' column:[0. 1.]\n",
      "\n",
      "Unique values in 'exclusion' column:[0. 1.]\n",
      "\n",
      "Unique values in 'impersonation' column:[0. 1.]\n",
      "\n",
      "Unique values in 'trolling' column:[0. 1.]\n",
      "\n",
      "Unique values in 'hateSpeech' column:[0. 1.]\n",
      "\n",
      "Unique values in 'threats' column:[0. 1.]\n",
      "\n"
     ]
    }
   ],
   "source": [
    "for column in df_tweets.columns:\n",
    "    # Get unique values in the current column\n",
    "    unique_values = df_tweets[column].unique()\n",
    "    \n",
    "    # Print the column name and its unique values\n",
    "    print(f\"Unique values in '{column}' column:{unique_values}\\n\")"
   ]
  },
  {
   "cell_type": "markdown",
   "metadata": {},
   "source": [
    "# Non Graphical Multivariate EDA"
   ]
  },
  {
   "cell_type": "markdown",
   "metadata": {},
   "source": [
    "### Cross-tabulation"
   ]
  },
  {
   "cell_type": "code",
   "execution_count": 140,
   "metadata": {},
   "outputs": [
    {
     "data": {
      "text/html": [
       "<div>\n",
       "<style scoped>\n",
       "    .dataframe tbody tr th:only-of-type {\n",
       "        vertical-align: middle;\n",
       "    }\n",
       "\n",
       "    .dataframe tbody tr th {\n",
       "        vertical-align: top;\n",
       "    }\n",
       "\n",
       "    .dataframe thead th {\n",
       "        text-align: right;\n",
       "    }\n",
       "</style>\n",
       "<table border=\"1\" class=\"dataframe\">\n",
       "  <thead>\n",
       "    <tr style=\"text-align: right;\">\n",
       "      <th>cyberbullying_type</th>\n",
       "      <th>age</th>\n",
       "      <th>ethnicity</th>\n",
       "      <th>gender</th>\n",
       "      <th>not_cyberbullying</th>\n",
       "      <th>other_cyberbullying</th>\n",
       "      <th>religion</th>\n",
       "    </tr>\n",
       "    <tr>\n",
       "      <th>harass</th>\n",
       "      <th></th>\n",
       "      <th></th>\n",
       "      <th></th>\n",
       "      <th></th>\n",
       "      <th></th>\n",
       "      <th></th>\n",
       "    </tr>\n",
       "  </thead>\n",
       "  <tbody>\n",
       "    <tr>\n",
       "      <th>0.0</th>\n",
       "      <td>7318</td>\n",
       "      <td>7829</td>\n",
       "      <td>7472</td>\n",
       "      <td>7120</td>\n",
       "      <td>7407</td>\n",
       "      <td>7625</td>\n",
       "    </tr>\n",
       "    <tr>\n",
       "      <th>1.0</th>\n",
       "      <td>674</td>\n",
       "      <td>132</td>\n",
       "      <td>501</td>\n",
       "      <td>825</td>\n",
       "      <td>416</td>\n",
       "      <td>373</td>\n",
       "    </tr>\n",
       "  </tbody>\n",
       "</table>\n",
       "</div>"
      ],
      "text/plain": [
       "cyberbullying_type   age  ethnicity  gender  not_cyberbullying  \\\n",
       "harass                                                           \n",
       "0.0                 7318       7829    7472               7120   \n",
       "1.0                  674        132     501                825   \n",
       "\n",
       "cyberbullying_type  other_cyberbullying  religion  \n",
       "harass                                             \n",
       "0.0                                7407      7625  \n",
       "1.0                                 416       373  "
      ]
     },
     "execution_count": 140,
     "metadata": {},
     "output_type": "execute_result"
    }
   ],
   "source": [
    "pd.crosstab(df_tweets['harass'], df_tweets['cyberbullying_type'])"
   ]
  },
  {
   "cell_type": "markdown",
   "metadata": {},
   "source": [
    "### Pivot Tables"
   ]
  },
  {
   "cell_type": "code",
   "execution_count": 141,
   "metadata": {},
   "outputs": [
    {
     "name": "stderr",
     "output_type": "stream",
     "text": [
      "/var/folders/y8/blsng9yn0_jdwkc6k9fx0f240000gn/T/ipykernel_42066/2287437167.py:1: FutureWarning: The provided callable <function mean at 0x108ac8860> is currently using DataFrameGroupBy.mean. In a future version of pandas, the provided callable will be used directly. To keep current behavior pass the string \"mean\" instead.\n",
      "  pd.pivot_table(df_tweets[['cyberbullying_type', 'harass', 'cyberstalk', 'flaming', 'outing', 'doxing', 'exclusion', 'impersonation', 'trolling', 'hateSpeech', 'threats']],\n"
     ]
    },
    {
     "data": {
      "text/html": [
       "<div>\n",
       "<style scoped>\n",
       "    .dataframe tbody tr th:only-of-type {\n",
       "        vertical-align: middle;\n",
       "    }\n",
       "\n",
       "    .dataframe tbody tr th {\n",
       "        vertical-align: top;\n",
       "    }\n",
       "\n",
       "    .dataframe thead th {\n",
       "        text-align: right;\n",
       "    }\n",
       "</style>\n",
       "<table border=\"1\" class=\"dataframe\">\n",
       "  <thead>\n",
       "    <tr style=\"text-align: right;\">\n",
       "      <th></th>\n",
       "      <th>cyberstalk</th>\n",
       "      <th>doxing</th>\n",
       "      <th>exclusion</th>\n",
       "      <th>flaming</th>\n",
       "      <th>harass</th>\n",
       "      <th>hateSpeech</th>\n",
       "      <th>impersonation</th>\n",
       "      <th>outing</th>\n",
       "      <th>threats</th>\n",
       "      <th>trolling</th>\n",
       "    </tr>\n",
       "    <tr>\n",
       "      <th>cyberbullying_type</th>\n",
       "      <th></th>\n",
       "      <th></th>\n",
       "      <th></th>\n",
       "      <th></th>\n",
       "      <th></th>\n",
       "      <th></th>\n",
       "      <th></th>\n",
       "      <th></th>\n",
       "      <th></th>\n",
       "      <th></th>\n",
       "    </tr>\n",
       "  </thead>\n",
       "  <tbody>\n",
       "    <tr>\n",
       "      <th>age</th>\n",
       "      <td>0.040415</td>\n",
       "      <td>0.016892</td>\n",
       "      <td>0.009009</td>\n",
       "      <td>0.008008</td>\n",
       "      <td>0.084334</td>\n",
       "      <td>0.062187</td>\n",
       "      <td>0.013639</td>\n",
       "      <td>0.012262</td>\n",
       "      <td>0.029404</td>\n",
       "      <td>0.012513</td>\n",
       "    </tr>\n",
       "    <tr>\n",
       "      <th>ethnicity</th>\n",
       "      <td>0.032157</td>\n",
       "      <td>0.011556</td>\n",
       "      <td>0.002763</td>\n",
       "      <td>0.012310</td>\n",
       "      <td>0.016581</td>\n",
       "      <td>0.124482</td>\n",
       "      <td>0.007662</td>\n",
       "      <td>0.005150</td>\n",
       "      <td>0.011682</td>\n",
       "      <td>0.009923</td>\n",
       "    </tr>\n",
       "    <tr>\n",
       "      <th>gender</th>\n",
       "      <td>0.035620</td>\n",
       "      <td>0.014173</td>\n",
       "      <td>0.004139</td>\n",
       "      <td>0.027217</td>\n",
       "      <td>0.062837</td>\n",
       "      <td>0.256867</td>\n",
       "      <td>0.011163</td>\n",
       "      <td>0.005268</td>\n",
       "      <td>0.036498</td>\n",
       "      <td>0.026841</td>\n",
       "    </tr>\n",
       "    <tr>\n",
       "      <th>not_cyberbullying</th>\n",
       "      <td>0.030082</td>\n",
       "      <td>0.013090</td>\n",
       "      <td>0.002014</td>\n",
       "      <td>0.003021</td>\n",
       "      <td>0.103839</td>\n",
       "      <td>0.029201</td>\n",
       "      <td>0.002391</td>\n",
       "      <td>0.006293</td>\n",
       "      <td>0.013593</td>\n",
       "      <td>0.012587</td>\n",
       "    </tr>\n",
       "    <tr>\n",
       "      <th>other_cyberbullying</th>\n",
       "      <td>0.030679</td>\n",
       "      <td>0.021475</td>\n",
       "      <td>0.001534</td>\n",
       "      <td>0.003963</td>\n",
       "      <td>0.053177</td>\n",
       "      <td>0.038988</td>\n",
       "      <td>0.004091</td>\n",
       "      <td>0.010610</td>\n",
       "      <td>0.012911</td>\n",
       "      <td>0.021859</td>\n",
       "    </tr>\n",
       "    <tr>\n",
       "      <th>religion</th>\n",
       "      <td>0.051263</td>\n",
       "      <td>0.027507</td>\n",
       "      <td>0.006252</td>\n",
       "      <td>0.012003</td>\n",
       "      <td>0.046637</td>\n",
       "      <td>0.101025</td>\n",
       "      <td>0.027132</td>\n",
       "      <td>0.013003</td>\n",
       "      <td>0.049387</td>\n",
       "      <td>0.009502</td>\n",
       "    </tr>\n",
       "  </tbody>\n",
       "</table>\n",
       "</div>"
      ],
      "text/plain": [
       "                     cyberstalk    doxing  exclusion   flaming    harass  \\\n",
       "cyberbullying_type                                                         \n",
       "age                    0.040415  0.016892   0.009009  0.008008  0.084334   \n",
       "ethnicity              0.032157  0.011556   0.002763  0.012310  0.016581   \n",
       "gender                 0.035620  0.014173   0.004139  0.027217  0.062837   \n",
       "not_cyberbullying      0.030082  0.013090   0.002014  0.003021  0.103839   \n",
       "other_cyberbullying    0.030679  0.021475   0.001534  0.003963  0.053177   \n",
       "religion               0.051263  0.027507   0.006252  0.012003  0.046637   \n",
       "\n",
       "                     hateSpeech  impersonation    outing   threats  trolling  \n",
       "cyberbullying_type                                                            \n",
       "age                    0.062187       0.013639  0.012262  0.029404  0.012513  \n",
       "ethnicity              0.124482       0.007662  0.005150  0.011682  0.009923  \n",
       "gender                 0.256867       0.011163  0.005268  0.036498  0.026841  \n",
       "not_cyberbullying      0.029201       0.002391  0.006293  0.013593  0.012587  \n",
       "other_cyberbullying    0.038988       0.004091  0.010610  0.012911  0.021859  \n",
       "religion               0.101025       0.027132  0.013003  0.049387  0.009502  "
      ]
     },
     "execution_count": 141,
     "metadata": {},
     "output_type": "execute_result"
    }
   ],
   "source": [
    "pd.pivot_table(df_tweets[['cyberbullying_type', 'harass', 'cyberstalk', 'flaming', 'outing', 'doxing', 'exclusion', 'impersonation', 'trolling', 'hateSpeech', 'threats']],\n",
    "               index=['cyberbullying_type'],\n",
    "               values=['harass', 'cyberstalk', 'flaming', 'outing', 'doxing', 'exclusion', 'impersonation', 'trolling', 'hateSpeech', 'threats'],\n",
    "               aggfunc=np.mean)"
   ]
  },
  {
   "cell_type": "markdown",
   "metadata": {},
   "source": [
    "### Correlation Matrix"
   ]
  },
  {
   "cell_type": "code",
   "execution_count": 142,
   "metadata": {},
   "outputs": [
    {
     "data": {
      "text/html": [
       "<div>\n",
       "<style scoped>\n",
       "    .dataframe tbody tr th:only-of-type {\n",
       "        vertical-align: middle;\n",
       "    }\n",
       "\n",
       "    .dataframe tbody tr th {\n",
       "        vertical-align: top;\n",
       "    }\n",
       "\n",
       "    .dataframe thead th {\n",
       "        text-align: right;\n",
       "    }\n",
       "</style>\n",
       "<table border=\"1\" class=\"dataframe\">\n",
       "  <thead>\n",
       "    <tr style=\"text-align: right;\">\n",
       "      <th></th>\n",
       "      <th>harass</th>\n",
       "      <th>cyberstalk</th>\n",
       "      <th>flaming</th>\n",
       "      <th>outing</th>\n",
       "      <th>doxing</th>\n",
       "      <th>exclusion</th>\n",
       "      <th>impersonation</th>\n",
       "      <th>trolling</th>\n",
       "      <th>hateSpeech</th>\n",
       "      <th>threats</th>\n",
       "    </tr>\n",
       "  </thead>\n",
       "  <tbody>\n",
       "    <tr>\n",
       "      <th>harass</th>\n",
       "      <td>1.000000</td>\n",
       "      <td>0.011015</td>\n",
       "      <td>0.047997</td>\n",
       "      <td>0.004127</td>\n",
       "      <td>0.016726</td>\n",
       "      <td>0.011287</td>\n",
       "      <td>0.001441</td>\n",
       "      <td>0.045760</td>\n",
       "      <td>-0.003158</td>\n",
       "      <td>0.141120</td>\n",
       "    </tr>\n",
       "    <tr>\n",
       "      <th>cyberstalk</th>\n",
       "      <td>0.011015</td>\n",
       "      <td>1.000000</td>\n",
       "      <td>-0.001563</td>\n",
       "      <td>0.006750</td>\n",
       "      <td>0.000371</td>\n",
       "      <td>0.019541</td>\n",
       "      <td>0.013478</td>\n",
       "      <td>0.007049</td>\n",
       "      <td>0.008713</td>\n",
       "      <td>0.011333</td>\n",
       "    </tr>\n",
       "    <tr>\n",
       "      <th>flaming</th>\n",
       "      <td>0.047997</td>\n",
       "      <td>-0.001563</td>\n",
       "      <td>1.000000</td>\n",
       "      <td>-0.003531</td>\n",
       "      <td>0.004207</td>\n",
       "      <td>0.002207</td>\n",
       "      <td>0.004101</td>\n",
       "      <td>0.253717</td>\n",
       "      <td>0.098825</td>\n",
       "      <td>0.011906</td>\n",
       "    </tr>\n",
       "    <tr>\n",
       "      <th>outing</th>\n",
       "      <td>0.004127</td>\n",
       "      <td>0.006750</td>\n",
       "      <td>-0.003531</td>\n",
       "      <td>1.000000</td>\n",
       "      <td>0.477168</td>\n",
       "      <td>0.017892</td>\n",
       "      <td>0.011580</td>\n",
       "      <td>0.002756</td>\n",
       "      <td>-0.005774</td>\n",
       "      <td>0.013208</td>\n",
       "    </tr>\n",
       "    <tr>\n",
       "      <th>doxing</th>\n",
       "      <td>0.016726</td>\n",
       "      <td>0.000371</td>\n",
       "      <td>0.004207</td>\n",
       "      <td>0.477168</td>\n",
       "      <td>1.000000</td>\n",
       "      <td>-0.001411</td>\n",
       "      <td>0.060985</td>\n",
       "      <td>-0.001179</td>\n",
       "      <td>-0.002721</td>\n",
       "      <td>0.011818</td>\n",
       "    </tr>\n",
       "    <tr>\n",
       "      <th>exclusion</th>\n",
       "      <td>0.011287</td>\n",
       "      <td>0.019541</td>\n",
       "      <td>0.002207</td>\n",
       "      <td>0.017892</td>\n",
       "      <td>-0.001411</td>\n",
       "      <td>1.000000</td>\n",
       "      <td>0.002253</td>\n",
       "      <td>0.007311</td>\n",
       "      <td>0.008480</td>\n",
       "      <td>0.015700</td>\n",
       "    </tr>\n",
       "    <tr>\n",
       "      <th>impersonation</th>\n",
       "      <td>0.001441</td>\n",
       "      <td>0.013478</td>\n",
       "      <td>0.004101</td>\n",
       "      <td>0.011580</td>\n",
       "      <td>0.060985</td>\n",
       "      <td>0.002253</td>\n",
       "      <td>1.000000</td>\n",
       "      <td>-0.000287</td>\n",
       "      <td>0.000705</td>\n",
       "      <td>0.004423</td>\n",
       "    </tr>\n",
       "    <tr>\n",
       "      <th>trolling</th>\n",
       "      <td>0.045760</td>\n",
       "      <td>0.007049</td>\n",
       "      <td>0.253717</td>\n",
       "      <td>0.002756</td>\n",
       "      <td>-0.001179</td>\n",
       "      <td>0.007311</td>\n",
       "      <td>-0.000287</td>\n",
       "      <td>1.000000</td>\n",
       "      <td>0.070113</td>\n",
       "      <td>0.013978</td>\n",
       "    </tr>\n",
       "    <tr>\n",
       "      <th>hateSpeech</th>\n",
       "      <td>-0.003158</td>\n",
       "      <td>0.008713</td>\n",
       "      <td>0.098825</td>\n",
       "      <td>-0.005774</td>\n",
       "      <td>-0.002721</td>\n",
       "      <td>0.008480</td>\n",
       "      <td>0.000705</td>\n",
       "      <td>0.070113</td>\n",
       "      <td>1.000000</td>\n",
       "      <td>0.018308</td>\n",
       "    </tr>\n",
       "    <tr>\n",
       "      <th>threats</th>\n",
       "      <td>0.141120</td>\n",
       "      <td>0.011333</td>\n",
       "      <td>0.011906</td>\n",
       "      <td>0.013208</td>\n",
       "      <td>0.011818</td>\n",
       "      <td>0.015700</td>\n",
       "      <td>0.004423</td>\n",
       "      <td>0.013978</td>\n",
       "      <td>0.018308</td>\n",
       "      <td>1.000000</td>\n",
       "    </tr>\n",
       "  </tbody>\n",
       "</table>\n",
       "</div>"
      ],
      "text/plain": [
       "                 harass  cyberstalk   flaming    outing    doxing  exclusion  \\\n",
       "harass         1.000000    0.011015  0.047997  0.004127  0.016726   0.011287   \n",
       "cyberstalk     0.011015    1.000000 -0.001563  0.006750  0.000371   0.019541   \n",
       "flaming        0.047997   -0.001563  1.000000 -0.003531  0.004207   0.002207   \n",
       "outing         0.004127    0.006750 -0.003531  1.000000  0.477168   0.017892   \n",
       "doxing         0.016726    0.000371  0.004207  0.477168  1.000000  -0.001411   \n",
       "exclusion      0.011287    0.019541  0.002207  0.017892 -0.001411   1.000000   \n",
       "impersonation  0.001441    0.013478  0.004101  0.011580  0.060985   0.002253   \n",
       "trolling       0.045760    0.007049  0.253717  0.002756 -0.001179   0.007311   \n",
       "hateSpeech    -0.003158    0.008713  0.098825 -0.005774 -0.002721   0.008480   \n",
       "threats        0.141120    0.011333  0.011906  0.013208  0.011818   0.015700   \n",
       "\n",
       "               impersonation  trolling  hateSpeech   threats  \n",
       "harass              0.001441  0.045760   -0.003158  0.141120  \n",
       "cyberstalk          0.013478  0.007049    0.008713  0.011333  \n",
       "flaming             0.004101  0.253717    0.098825  0.011906  \n",
       "outing              0.011580  0.002756   -0.005774  0.013208  \n",
       "doxing              0.060985 -0.001179   -0.002721  0.011818  \n",
       "exclusion           0.002253  0.007311    0.008480  0.015700  \n",
       "impersonation       1.000000 -0.000287    0.000705  0.004423  \n",
       "trolling           -0.000287  1.000000    0.070113  0.013978  \n",
       "hateSpeech          0.000705  0.070113    1.000000  0.018308  \n",
       "threats             0.004423  0.013978    0.018308  1.000000  "
      ]
     },
     "execution_count": 142,
     "metadata": {},
     "output_type": "execute_result"
    }
   ],
   "source": [
    "df_tweets[['harass', 'cyberstalk', 'flaming', 'outing', 'doxing', 'exclusion', 'impersonation', 'trolling', 'hateSpeech', 'threats']].corr()"
   ]
  },
  {
   "cell_type": "markdown",
   "metadata": {},
   "source": [
    "### Covariance Matrix"
   ]
  },
  {
   "cell_type": "code",
   "execution_count": 143,
   "metadata": {},
   "outputs": [
    {
     "data": {
      "text/html": [
       "<div>\n",
       "<style scoped>\n",
       "    .dataframe tbody tr th:only-of-type {\n",
       "        vertical-align: middle;\n",
       "    }\n",
       "\n",
       "    .dataframe tbody tr th {\n",
       "        vertical-align: top;\n",
       "    }\n",
       "\n",
       "    .dataframe thead th {\n",
       "        text-align: right;\n",
       "    }\n",
       "</style>\n",
       "<table border=\"1\" class=\"dataframe\">\n",
       "  <thead>\n",
       "    <tr style=\"text-align: right;\">\n",
       "      <th></th>\n",
       "      <th>harass</th>\n",
       "      <th>cyberstalk</th>\n",
       "      <th>flaming</th>\n",
       "      <th>outing</th>\n",
       "      <th>doxing</th>\n",
       "      <th>exclusion</th>\n",
       "      <th>impersonation</th>\n",
       "      <th>trolling</th>\n",
       "      <th>hateSpeech</th>\n",
       "      <th>threats</th>\n",
       "    </tr>\n",
       "  </thead>\n",
       "  <tbody>\n",
       "    <tr>\n",
       "      <th>harass</th>\n",
       "      <td>0.057497</td>\n",
       "      <td>0.000497</td>\n",
       "      <td>0.001206</td>\n",
       "      <td>0.000092</td>\n",
       "      <td>0.000525</td>\n",
       "      <td>0.000177</td>\n",
       "      <td>0.000036</td>\n",
       "      <td>0.001356</td>\n",
       "      <td>-0.000230</td>\n",
       "      <td>0.005349</td>\n",
       "    </tr>\n",
       "    <tr>\n",
       "      <th>cyberstalk</th>\n",
       "      <td>0.000497</td>\n",
       "      <td>0.035387</td>\n",
       "      <td>-0.000031</td>\n",
       "      <td>0.000118</td>\n",
       "      <td>0.000009</td>\n",
       "      <td>0.000240</td>\n",
       "      <td>0.000265</td>\n",
       "      <td>0.000164</td>\n",
       "      <td>0.000497</td>\n",
       "      <td>0.000337</td>\n",
       "    </tr>\n",
       "    <tr>\n",
       "      <th>flaming</th>\n",
       "      <td>0.001206</td>\n",
       "      <td>-0.000031</td>\n",
       "      <td>0.010990</td>\n",
       "      <td>-0.000034</td>\n",
       "      <td>0.000058</td>\n",
       "      <td>0.000015</td>\n",
       "      <td>0.000045</td>\n",
       "      <td>0.003287</td>\n",
       "      <td>0.003140</td>\n",
       "      <td>0.000197</td>\n",
       "    </tr>\n",
       "    <tr>\n",
       "      <th>outing</th>\n",
       "      <td>0.000092</td>\n",
       "      <td>0.000118</td>\n",
       "      <td>-0.000034</td>\n",
       "      <td>0.008688</td>\n",
       "      <td>0.005823</td>\n",
       "      <td>0.000109</td>\n",
       "      <td>0.000113</td>\n",
       "      <td>0.000032</td>\n",
       "      <td>-0.000163</td>\n",
       "      <td>0.000195</td>\n",
       "    </tr>\n",
       "    <tr>\n",
       "      <th>doxing</th>\n",
       "      <td>0.000525</td>\n",
       "      <td>0.000009</td>\n",
       "      <td>0.000058</td>\n",
       "      <td>0.005823</td>\n",
       "      <td>0.017141</td>\n",
       "      <td>-0.000012</td>\n",
       "      <td>0.000835</td>\n",
       "      <td>-0.000019</td>\n",
       "      <td>-0.000108</td>\n",
       "      <td>0.000245</td>\n",
       "    </tr>\n",
       "    <tr>\n",
       "      <th>exclusion</th>\n",
       "      <td>0.000177</td>\n",
       "      <td>0.000240</td>\n",
       "      <td>0.000015</td>\n",
       "      <td>0.000109</td>\n",
       "      <td>-0.000012</td>\n",
       "      <td>0.004280</td>\n",
       "      <td>0.000015</td>\n",
       "      <td>0.000059</td>\n",
       "      <td>0.000168</td>\n",
       "      <td>0.000162</td>\n",
       "    </tr>\n",
       "    <tr>\n",
       "      <th>impersonation</th>\n",
       "      <td>0.000036</td>\n",
       "      <td>0.000265</td>\n",
       "      <td>0.000045</td>\n",
       "      <td>0.000113</td>\n",
       "      <td>0.000835</td>\n",
       "      <td>0.000015</td>\n",
       "      <td>0.010928</td>\n",
       "      <td>-0.000004</td>\n",
       "      <td>0.000022</td>\n",
       "      <td>0.000073</td>\n",
       "    </tr>\n",
       "    <tr>\n",
       "      <th>trolling</th>\n",
       "      <td>0.001356</td>\n",
       "      <td>0.000164</td>\n",
       "      <td>0.003287</td>\n",
       "      <td>0.000032</td>\n",
       "      <td>-0.000019</td>\n",
       "      <td>0.000059</td>\n",
       "      <td>-0.000004</td>\n",
       "      <td>0.015276</td>\n",
       "      <td>0.002627</td>\n",
       "      <td>0.000273</td>\n",
       "    </tr>\n",
       "    <tr>\n",
       "      <th>hateSpeech</th>\n",
       "      <td>-0.000230</td>\n",
       "      <td>0.000497</td>\n",
       "      <td>0.003140</td>\n",
       "      <td>-0.000163</td>\n",
       "      <td>-0.000108</td>\n",
       "      <td>0.000168</td>\n",
       "      <td>0.000022</td>\n",
       "      <td>0.002627</td>\n",
       "      <td>0.091872</td>\n",
       "      <td>0.000877</td>\n",
       "    </tr>\n",
       "    <tr>\n",
       "      <th>threats</th>\n",
       "      <td>0.005349</td>\n",
       "      <td>0.000337</td>\n",
       "      <td>0.000197</td>\n",
       "      <td>0.000195</td>\n",
       "      <td>0.000245</td>\n",
       "      <td>0.000162</td>\n",
       "      <td>0.000073</td>\n",
       "      <td>0.000273</td>\n",
       "      <td>0.000877</td>\n",
       "      <td>0.024987</td>\n",
       "    </tr>\n",
       "  </tbody>\n",
       "</table>\n",
       "</div>"
      ],
      "text/plain": [
       "                 harass  cyberstalk   flaming    outing    doxing  exclusion  \\\n",
       "harass         0.057497    0.000497  0.001206  0.000092  0.000525   0.000177   \n",
       "cyberstalk     0.000497    0.035387 -0.000031  0.000118  0.000009   0.000240   \n",
       "flaming        0.001206   -0.000031  0.010990 -0.000034  0.000058   0.000015   \n",
       "outing         0.000092    0.000118 -0.000034  0.008688  0.005823   0.000109   \n",
       "doxing         0.000525    0.000009  0.000058  0.005823  0.017141  -0.000012   \n",
       "exclusion      0.000177    0.000240  0.000015  0.000109 -0.000012   0.004280   \n",
       "impersonation  0.000036    0.000265  0.000045  0.000113  0.000835   0.000015   \n",
       "trolling       0.001356    0.000164  0.003287  0.000032 -0.000019   0.000059   \n",
       "hateSpeech    -0.000230    0.000497  0.003140 -0.000163 -0.000108   0.000168   \n",
       "threats        0.005349    0.000337  0.000197  0.000195  0.000245   0.000162   \n",
       "\n",
       "               impersonation  trolling  hateSpeech   threats  \n",
       "harass              0.000036  0.001356   -0.000230  0.005349  \n",
       "cyberstalk          0.000265  0.000164    0.000497  0.000337  \n",
       "flaming             0.000045  0.003287    0.003140  0.000197  \n",
       "outing              0.000113  0.000032   -0.000163  0.000195  \n",
       "doxing              0.000835 -0.000019   -0.000108  0.000245  \n",
       "exclusion           0.000015  0.000059    0.000168  0.000162  \n",
       "impersonation       0.010928 -0.000004    0.000022  0.000073  \n",
       "trolling           -0.000004  0.015276    0.002627  0.000273  \n",
       "hateSpeech          0.000022  0.002627    0.091872  0.000877  \n",
       "threats             0.000073  0.000273    0.000877  0.024987  "
      ]
     },
     "execution_count": 143,
     "metadata": {},
     "output_type": "execute_result"
    }
   ],
   "source": [
    "df_tweets[['harass', 'cyberstalk', 'flaming', 'outing', 'doxing', 'exclusion', 'impersonation', 'trolling', 'hateSpeech', 'threats']].cov()"
   ]
  },
  {
   "cell_type": "markdown",
   "metadata": {},
   "source": [
    "# Graphical Univariate EDA\n",
    "Most Graphics like Line, Histograms, Density Plots, QQ-Plots or Barcharts don't make sense, as the values are mostly 0 or 1."
   ]
  },
  {
   "cell_type": "markdown",
   "metadata": {},
   "source": [
    "### Boxplot (seaborn)\n",
    "Boxplot doesn't really make sense, as the values are only 0 and 1."
   ]
  },
  {
   "cell_type": "code",
   "execution_count": 144,
   "metadata": {},
   "outputs": [
    {
     "name": "stderr",
     "output_type": "stream",
     "text": [
      "/Users/salomekoller/anaconda3/envs/pga/lib/python3.11/site-packages/seaborn/_oldcore.py:1498: FutureWarning: is_categorical_dtype is deprecated and will be removed in a future version. Use isinstance(dtype, CategoricalDtype) instead\n",
      "  if pd.api.types.is_categorical_dtype(vector):\n"
     ]
    },
    {
     "data": {
      "text/plain": [
       "<Axes: xlabel='impersonation'>"
      ]
     },
     "execution_count": 144,
     "metadata": {},
     "output_type": "execute_result"
    },
    {
     "data": {
      "image/png": "[encoded data removed]",
      "text/plain": [
       "<Figure size 800x120 with 1 Axes>"
      ]
     },
     "metadata": {},
     "output_type": "display_data"
    }
   ],
   "source": [
    "plt.figure(figsize=(8,1.2))\n",
    "plt.ticklabel_format(style='plain')\n",
    "sns.boxplot(x=df_tweets['impersonation'], color=\"lightblue\")"
   ]
  },
  {
   "cell_type": "markdown",
   "metadata": {},
   "source": [
    "### Piechart (matplotlib)"
   ]
  },
  {
   "cell_type": "code",
   "execution_count": 145,
   "metadata": {},
   "outputs": [
    {
     "data": {
      "image/png": "[encoded data removed]",
      "text/plain": [
       "<Figure size 500x500 with 1 Axes>"
      ]
     },
     "metadata": {},
     "output_type": "display_data"
    }
   ],
   "source": [
    "# Group data by rooms (only the 8 most frequently occurencies by rooms)\n",
    "df_bar = df_tweets.cyberbullying_type.value_counts().nlargest(8).sort_values(ascending=True)\n",
    "\n",
    "# Simple bar chart\n",
    "sizes = list(df_bar.values)\n",
    "labels = list(df_bar.index.values)\n",
    "\n",
    "fig1, ax1 = plt.subplots(figsize=(5,5))\n",
    "ax1.pie(sizes, \n",
    "        labels=labels, \n",
    "        autopct='%1.1f%%',\n",
    "        shadow=False, \n",
    "        startangle=90)\n",
    "ax1.axis('equal')  # ensures that pie is drawn as a circle.\n",
    "\n",
    "plt.show()"
   ]
  },
  {
   "cell_type": "markdown",
   "metadata": {},
   "source": [
    "# Graphical Multivariate EDA\n",
    "Most Graphics like Scatterplots, Regressionlines, Matrices, Hexagonal binning plots or Correlation heatmaps don't make sense, as the values are mostly 0 or 1."
   ]
  },
  {
   "cell_type": "markdown",
   "metadata": {},
   "source": [
    "### Example Correlation heatmap:"
   ]
  },
  {
   "cell_type": "code",
   "execution_count": 146,
   "metadata": {},
   "outputs": [
    {
     "data": {
      "text/plain": [
       "<Axes: >"
      ]
     },
     "execution_count": 146,
     "metadata": {},
     "output_type": "execute_result"
    },
    {
     "data": {
      "image/png": "[encoded data removed]",
      "text/plain": [
       "<Figure size 700x400 with 2 Axes>"
      ]
     },
     "metadata": {},
     "output_type": "display_data"
    }
   ],
   "source": [
    "# Set font size for plot\n",
    "sns.set(font_scale=0.6)\n",
    "\n",
    "# Create correlation matrix as the basis for the heatmap\n",
    "plt.figure(figsize=(7,4))\n",
    "corr = df_tweets[['harass', 'cyberstalk', 'flaming', 'outing', 'doxing', 'exclusion', 'impersonation', 'trolling', 'hateSpeech', 'threats']].corr().round(2)\n",
    "\n",
    "# Plot heatmap\n",
    "sns.heatmap(corr, \n",
    "            cmap=\"BrBG\", \n",
    "            annot=True)"
   ]
  }
 ],
 "metadata": {
  "kernelspec": {
   "display_name": "pga",
   "language": "python",
   "name": "python3"
  },
  "language_info": {
   "codemirror_mode": {
    "name": "ipython",
    "version": 3
   },
   "file_extension": ".py",
   "mimetype": "text/x-python",
   "name": "python",
   "nbconvert_exporter": "python",
   "pygments_lexer": "ipython3",
   "version": "3.11.5"
  }
 },
 "nbformat": 4,
 "nbformat_minor": 2
}
